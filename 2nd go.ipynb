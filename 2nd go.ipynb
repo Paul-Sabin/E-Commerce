{
 "cells": [
  {
   "cell_type": "code",
   "execution_count": 3,
   "metadata": {},
   "outputs": [],
   "source": [
    "import pandas as pd"
   ]
  },
  {
   "cell_type": "markdown",
   "metadata": {},
   "source": [
    "Import CSV"
   ]
  },
  {
   "cell_type": "code",
   "execution_count": 4,
   "metadata": {},
   "outputs": [],
   "source": [
    "eshop = pd.read_csv('Sample-Superstore.csv', encoding='latin1')"
   ]
  },
  {
   "cell_type": "code",
   "execution_count": 3,
   "metadata": {},
   "outputs": [
    {
     "name": "stdout",
     "output_type": "stream",
     "text": [
      "<class 'pandas.core.frame.DataFrame'>\n",
      "RangeIndex: 9994 entries, 0 to 9993\n",
      "Data columns (total 21 columns):\n",
      " #   Column         Non-Null Count  Dtype  \n",
      "---  ------         --------------  -----  \n",
      " 0   Row ID         9994 non-null   int64  \n",
      " 1   Order ID       9994 non-null   object \n",
      " 2   Order Date     9994 non-null   object \n",
      " 3   Ship Date      9994 non-null   object \n",
      " 4   Ship Mode      9994 non-null   object \n",
      " 5   Customer ID    9994 non-null   object \n",
      " 6   Customer Name  9994 non-null   object \n",
      " 7   Segment        9994 non-null   object \n",
      " 8   Country        9994 non-null   object \n",
      " 9   City           9994 non-null   object \n",
      " 10  State          9994 non-null   object \n",
      " 11  Postal Code    9994 non-null   int64  \n",
      " 12  Region         9994 non-null   object \n",
      " 13  Product ID     9994 non-null   object \n",
      " 14  Category       9994 non-null   object \n",
      " 15  Sub-Category   9994 non-null   object \n",
      " 16  Product Name   9994 non-null   object \n",
      " 17  Sales          9994 non-null   float64\n",
      " 18  Quantity       9994 non-null   int64  \n",
      " 19  Discount       9994 non-null   float64\n",
      " 20  Profit         9994 non-null   float64\n",
      "dtypes: float64(3), int64(3), object(15)\n",
      "memory usage: 1.6+ MB\n"
     ]
    },
    {
     "data": {
      "text/plain": [
       "None"
      ]
     },
     "metadata": {},
     "output_type": "display_data"
    }
   ],
   "source": [
    "display(eshop.info())"
   ]
  },
  {
   "cell_type": "code",
   "execution_count": 5,
   "metadata": {},
   "outputs": [],
   "source": [
    "eshop.columns = [col.lower().replace(' ', '_') for col in eshop.columns]\n",
    "\n"
   ]
  },
  {
   "cell_type": "code",
   "execution_count": 6,
   "metadata": {},
   "outputs": [],
   "source": [
    "eshop.rename({'sub-category': 'sub_category'}, axis='columns', inplace=True)\n"
   ]
  },
  {
   "cell_type": "code",
   "execution_count": 7,
   "metadata": {},
   "outputs": [],
   "source": [
    "eshop[['first_name', 'surname']] = eshop['customer_name'].str.split(' ', n=1, expand=True)\n",
    "\n"
   ]
  },
  {
   "cell_type": "code",
   "execution_count": 7,
   "metadata": {},
   "outputs": [
    {
     "data": {
      "text/html": [
       "<div>\n",
       "<style scoped>\n",
       "    .dataframe tbody tr th:only-of-type {\n",
       "        vertical-align: middle;\n",
       "    }\n",
       "\n",
       "    .dataframe tbody tr th {\n",
       "        vertical-align: top;\n",
       "    }\n",
       "\n",
       "    .dataframe thead th {\n",
       "        text-align: right;\n",
       "    }\n",
       "</style>\n",
       "<table border=\"1\" class=\"dataframe\">\n",
       "  <thead>\n",
       "    <tr style=\"text-align: right;\">\n",
       "      <th></th>\n",
       "      <th>row_id</th>\n",
       "      <th>order_id</th>\n",
       "      <th>order_date</th>\n",
       "      <th>ship_date</th>\n",
       "      <th>ship_mode</th>\n",
       "      <th>customer_id</th>\n",
       "      <th>customer_name</th>\n",
       "      <th>segment</th>\n",
       "      <th>country</th>\n",
       "      <th>city</th>\n",
       "      <th>...</th>\n",
       "      <th>product_id</th>\n",
       "      <th>category</th>\n",
       "      <th>sub_category</th>\n",
       "      <th>product_name</th>\n",
       "      <th>sales</th>\n",
       "      <th>quantity</th>\n",
       "      <th>discount</th>\n",
       "      <th>profit</th>\n",
       "      <th>first_name</th>\n",
       "      <th>surname</th>\n",
       "    </tr>\n",
       "  </thead>\n",
       "  <tbody>\n",
       "    <tr>\n",
       "      <th>0</th>\n",
       "      <td>1</td>\n",
       "      <td>CA-2016-152156</td>\n",
       "      <td>11/8/2016</td>\n",
       "      <td>11/11/2016</td>\n",
       "      <td>Second Class</td>\n",
       "      <td>CG-12520</td>\n",
       "      <td>Claire Gute</td>\n",
       "      <td>Consumer</td>\n",
       "      <td>United States</td>\n",
       "      <td>Henderson</td>\n",
       "      <td>...</td>\n",
       "      <td>FUR-BO-10001798</td>\n",
       "      <td>Furniture</td>\n",
       "      <td>Bookcases</td>\n",
       "      <td>Bush Somerset Collection Bookcase</td>\n",
       "      <td>261.9600</td>\n",
       "      <td>2</td>\n",
       "      <td>0.00</td>\n",
       "      <td>41.9136</td>\n",
       "      <td>Claire</td>\n",
       "      <td>Gute</td>\n",
       "    </tr>\n",
       "    <tr>\n",
       "      <th>1</th>\n",
       "      <td>2</td>\n",
       "      <td>CA-2016-152156</td>\n",
       "      <td>11/8/2016</td>\n",
       "      <td>11/11/2016</td>\n",
       "      <td>Second Class</td>\n",
       "      <td>CG-12520</td>\n",
       "      <td>Claire Gute</td>\n",
       "      <td>Consumer</td>\n",
       "      <td>United States</td>\n",
       "      <td>Henderson</td>\n",
       "      <td>...</td>\n",
       "      <td>FUR-CH-10000454</td>\n",
       "      <td>Furniture</td>\n",
       "      <td>Chairs</td>\n",
       "      <td>Hon Deluxe Fabric Upholstered Stacking Chairs,...</td>\n",
       "      <td>731.9400</td>\n",
       "      <td>3</td>\n",
       "      <td>0.00</td>\n",
       "      <td>219.5820</td>\n",
       "      <td>Claire</td>\n",
       "      <td>Gute</td>\n",
       "    </tr>\n",
       "    <tr>\n",
       "      <th>2</th>\n",
       "      <td>3</td>\n",
       "      <td>CA-2016-138688</td>\n",
       "      <td>6/12/2016</td>\n",
       "      <td>6/16/2016</td>\n",
       "      <td>Second Class</td>\n",
       "      <td>DV-13045</td>\n",
       "      <td>Darrin Van Huff</td>\n",
       "      <td>Corporate</td>\n",
       "      <td>United States</td>\n",
       "      <td>Los Angeles</td>\n",
       "      <td>...</td>\n",
       "      <td>OFF-LA-10000240</td>\n",
       "      <td>Office Supplies</td>\n",
       "      <td>Labels</td>\n",
       "      <td>Self-Adhesive Address Labels for Typewriters b...</td>\n",
       "      <td>14.6200</td>\n",
       "      <td>2</td>\n",
       "      <td>0.00</td>\n",
       "      <td>6.8714</td>\n",
       "      <td>Darrin</td>\n",
       "      <td>Van Huff</td>\n",
       "    </tr>\n",
       "    <tr>\n",
       "      <th>3</th>\n",
       "      <td>4</td>\n",
       "      <td>US-2015-108966</td>\n",
       "      <td>10/11/2015</td>\n",
       "      <td>10/18/2015</td>\n",
       "      <td>Standard Class</td>\n",
       "      <td>SO-20335</td>\n",
       "      <td>Sean O'Donnell</td>\n",
       "      <td>Consumer</td>\n",
       "      <td>United States</td>\n",
       "      <td>Fort Lauderdale</td>\n",
       "      <td>...</td>\n",
       "      <td>FUR-TA-10000577</td>\n",
       "      <td>Furniture</td>\n",
       "      <td>Tables</td>\n",
       "      <td>Bretford CR4500 Series Slim Rectangular Table</td>\n",
       "      <td>957.5775</td>\n",
       "      <td>5</td>\n",
       "      <td>0.45</td>\n",
       "      <td>-383.0310</td>\n",
       "      <td>Sean</td>\n",
       "      <td>O'Donnell</td>\n",
       "    </tr>\n",
       "    <tr>\n",
       "      <th>4</th>\n",
       "      <td>5</td>\n",
       "      <td>US-2015-108966</td>\n",
       "      <td>10/11/2015</td>\n",
       "      <td>10/18/2015</td>\n",
       "      <td>Standard Class</td>\n",
       "      <td>SO-20335</td>\n",
       "      <td>Sean O'Donnell</td>\n",
       "      <td>Consumer</td>\n",
       "      <td>United States</td>\n",
       "      <td>Fort Lauderdale</td>\n",
       "      <td>...</td>\n",
       "      <td>OFF-ST-10000760</td>\n",
       "      <td>Office Supplies</td>\n",
       "      <td>Storage</td>\n",
       "      <td>Eldon Fold 'N Roll Cart System</td>\n",
       "      <td>22.3680</td>\n",
       "      <td>2</td>\n",
       "      <td>0.20</td>\n",
       "      <td>2.5164</td>\n",
       "      <td>Sean</td>\n",
       "      <td>O'Donnell</td>\n",
       "    </tr>\n",
       "  </tbody>\n",
       "</table>\n",
       "<p>5 rows × 23 columns</p>\n",
       "</div>"
      ],
      "text/plain": [
       "   row_id        order_id  order_date   ship_date       ship_mode customer_id  \\\n",
       "0       1  CA-2016-152156   11/8/2016  11/11/2016    Second Class    CG-12520   \n",
       "1       2  CA-2016-152156   11/8/2016  11/11/2016    Second Class    CG-12520   \n",
       "2       3  CA-2016-138688   6/12/2016   6/16/2016    Second Class    DV-13045   \n",
       "3       4  US-2015-108966  10/11/2015  10/18/2015  Standard Class    SO-20335   \n",
       "4       5  US-2015-108966  10/11/2015  10/18/2015  Standard Class    SO-20335   \n",
       "\n",
       "     customer_name    segment        country             city  ...  \\\n",
       "0      Claire Gute   Consumer  United States        Henderson  ...   \n",
       "1      Claire Gute   Consumer  United States        Henderson  ...   \n",
       "2  Darrin Van Huff  Corporate  United States      Los Angeles  ...   \n",
       "3   Sean O'Donnell   Consumer  United States  Fort Lauderdale  ...   \n",
       "4   Sean O'Donnell   Consumer  United States  Fort Lauderdale  ...   \n",
       "\n",
       "        product_id         category sub_category  \\\n",
       "0  FUR-BO-10001798        Furniture    Bookcases   \n",
       "1  FUR-CH-10000454        Furniture       Chairs   \n",
       "2  OFF-LA-10000240  Office Supplies       Labels   \n",
       "3  FUR-TA-10000577        Furniture       Tables   \n",
       "4  OFF-ST-10000760  Office Supplies      Storage   \n",
       "\n",
       "                                        product_name     sales quantity  \\\n",
       "0                  Bush Somerset Collection Bookcase  261.9600        2   \n",
       "1  Hon Deluxe Fabric Upholstered Stacking Chairs,...  731.9400        3   \n",
       "2  Self-Adhesive Address Labels for Typewriters b...   14.6200        2   \n",
       "3      Bretford CR4500 Series Slim Rectangular Table  957.5775        5   \n",
       "4                     Eldon Fold 'N Roll Cart System   22.3680        2   \n",
       "\n",
       "  discount    profit  first_name    surname  \n",
       "0     0.00   41.9136      Claire       Gute  \n",
       "1     0.00  219.5820      Claire       Gute  \n",
       "2     0.00    6.8714      Darrin   Van Huff  \n",
       "3     0.45 -383.0310        Sean  O'Donnell  \n",
       "4     0.20    2.5164        Sean  O'Donnell  \n",
       "\n",
       "[5 rows x 23 columns]"
      ]
     },
     "metadata": {},
     "output_type": "display_data"
    }
   ],
   "source": [
    "display(eshop.head())"
   ]
  },
  {
   "cell_type": "code",
   "execution_count": 8,
   "metadata": {},
   "outputs": [],
   "source": [
    "eshop['order_date'] = pd.to_datetime(eshop['order_date']).dt.strftime('%Y-%m-%d')\n"
   ]
  },
  {
   "cell_type": "code",
   "execution_count": 9,
   "metadata": {},
   "outputs": [],
   "source": [
    "import os\n",
    "import sqlite3\n",
    "from sqlite3 import Error"
   ]
  },
  {
   "cell_type": "code",
   "execution_count": 11,
   "metadata": {},
   "outputs": [],
   "source": [
    "eshop.to_csv('Sample-Superstore3.csv', index=False)"
   ]
  },
  {
   "cell_type": "code",
   "execution_count": 10,
   "metadata": {},
   "outputs": [],
   "source": [
    "path = r'C:\\\\Asus WebStorage\\\\psabin@gmail.com\\\\MySyncFolder\\\\Data Science Course\\\\E-Commerce\\\\'"
   ]
  },
  {
   "cell_type": "code",
   "execution_count": 11,
   "metadata": {},
   "outputs": [],
   "source": [
    "eshop_db = sqlite3.connect('eshop_database.db')"
   ]
  },
  {
   "cell_type": "code",
   "execution_count": 12,
   "metadata": {},
   "outputs": [],
   "source": [
    "c = eshop_db.cursor()"
   ]
  },
  {
   "cell_type": "code",
   "execution_count": 37,
   "metadata": {},
   "outputs": [
    {
     "data": {
      "text/plain": [
       "<sqlite3.Cursor at 0x231683c2a40>"
      ]
     },
     "execution_count": 37,
     "metadata": {},
     "output_type": "execute_result"
    }
   ],
   "source": [
    "c.execute('''\n",
    "CREATE TABLE IF NOT EXISTS \"orders\" (\n",
    "\t\"order_id\"\tTEXT,\n",
    "\t\"order_date\"\tTEXT,\n",
    "\t\"ship_date\"\tTEXT,\n",
    "\t\"ship_mode\"\tTEXT,\n",
    "\t\"customer_id\"\tTEXT,\n",
    "\t\"address_id\"\tTEXT,\n",
    "\tPRIMARY KEY(\"order_id\")\n",
    ");\n",
    "''')"
   ]
  },
  {
   "cell_type": "code",
   "execution_count": 35,
   "metadata": {},
   "outputs": [
    {
     "data": {
      "text/plain": [
       "<sqlite3.Cursor at 0x231683c2a40>"
      ]
     },
     "execution_count": 35,
     "metadata": {},
     "output_type": "execute_result"
    }
   ],
   "source": [
    "c.execute('''\n",
    "CREATE TABLE IF NOT EXISTS \"products\" (\n",
    "\t\"product_id\"\tTEXT,\n",
    "\t\"product_name\"\tTEXT,\n",
    "\t\"category\"\tTEXT,\n",
    "\t\"sub_category\"\tTEXT,\n",
    "\tPRIMARY KEY(\"product_id\")\n",
    ");\n",
    "''')"
   ]
  },
  {
   "cell_type": "code",
   "execution_count": 38,
   "metadata": {},
   "outputs": [
    {
     "data": {
      "text/plain": [
       "<sqlite3.Cursor at 0x231683c2a40>"
      ]
     },
     "execution_count": 38,
     "metadata": {},
     "output_type": "execute_result"
    }
   ],
   "source": [
    "c.execute('''\n",
    "CREATE TABLE IF NOT EXISTS \"customers\" (\n",
    "\t\"customer_id\"\tTEXT,\n",
    "\t\"first_name\"\tTEXT,\n",
    "\t\"surname\"\tTEXT,\n",
    "\t\"segment\"\tTEXT,\n",
    "\tPRIMARY KEY(\"customer_id\")\n",
    ");\n",
    "''')"
   ]
  },
  {
   "cell_type": "code",
   "execution_count": 40,
   "metadata": {},
   "outputs": [
    {
     "data": {
      "text/plain": [
       "<sqlite3.Cursor at 0x231683c2a40>"
      ]
     },
     "execution_count": 40,
     "metadata": {},
     "output_type": "execute_result"
    }
   ],
   "source": [
    "c.execute('''\n",
    "CREATE TABLE IF NOT EXISTS \"addresses\" (\n",
    "\t\"address_id\"\tTEXT,\n",
    "\t\"country\"\tTEXT,\n",
    "\t\"city\"\tTEXT,\n",
    "\t\"state\"\tTEXT,\t\n",
    "    \"postal_code\"\tTEXT,\n",
    "\t\"region\"\tTEXT,\n",
    "\tPRIMARY KEY(\"address_id\")\n",
    ");\n",
    "''')"
   ]
  },
  {
   "cell_type": "code",
   "execution_count": 13,
   "metadata": {},
   "outputs": [
    {
     "name": "stderr",
     "output_type": "stream",
     "text": [
      "C:\\Users\\psabi\\AppData\\Local\\Temp\\ipykernel_26860\\686817426.py:5: SettingWithCopyWarning: \n",
      "A value is trying to be set on a copy of a slice from a DataFrame\n",
      "\n",
      "See the caveats in the documentation: https://pandas.pydata.org/pandas-docs/stable/user_guide/indexing.html#returning-a-view-versus-a-copy\n",
      "  addresses.sort_values(by='customer_id', inplace=True)\n",
      "C:\\Users\\psabi\\AppData\\Local\\Temp\\ipykernel_26860\\686817426.py:8: SettingWithCopyWarning: \n",
      "A value is trying to be set on a copy of a slice from a DataFrame.\n",
      "Try using .loc[row_indexer,col_indexer] = value instead\n",
      "\n",
      "See the caveats in the documentation: https://pandas.pydata.org/pandas-docs/stable/user_guide/indexing.html#returning-a-view-versus-a-copy\n",
      "  addresses['address_id'] = addresses.groupby('customer_id').cumcount() + 1\n",
      "C:\\Users\\psabi\\AppData\\Local\\Temp\\ipykernel_26860\\686817426.py:9: SettingWithCopyWarning: \n",
      "A value is trying to be set on a copy of a slice from a DataFrame.\n",
      "Try using .loc[row_indexer,col_indexer] = value instead\n",
      "\n",
      "See the caveats in the documentation: https://pandas.pydata.org/pandas-docs/stable/user_guide/indexing.html#returning-a-view-versus-a-copy\n",
      "  addresses['address_id'] = addresses['customer_id'] + 'A' + addresses['address_id'].astype(str)\n"
     ]
    },
    {
     "data": {
      "text/html": [
       "<div>\n",
       "<style scoped>\n",
       "    .dataframe tbody tr th:only-of-type {\n",
       "        vertical-align: middle;\n",
       "    }\n",
       "\n",
       "    .dataframe tbody tr th {\n",
       "        vertical-align: top;\n",
       "    }\n",
       "\n",
       "    .dataframe thead th {\n",
       "        text-align: right;\n",
       "    }\n",
       "</style>\n",
       "<table border=\"1\" class=\"dataframe\">\n",
       "  <thead>\n",
       "    <tr style=\"text-align: right;\">\n",
       "      <th></th>\n",
       "      <th>row_id</th>\n",
       "      <th>order_id</th>\n",
       "      <th>order_date</th>\n",
       "      <th>ship_date</th>\n",
       "      <th>ship_mode</th>\n",
       "      <th>customer_id</th>\n",
       "      <th>customer_name</th>\n",
       "      <th>segment</th>\n",
       "      <th>country</th>\n",
       "      <th>city</th>\n",
       "      <th>...</th>\n",
       "      <th>category</th>\n",
       "      <th>sub_category</th>\n",
       "      <th>product_name</th>\n",
       "      <th>sales</th>\n",
       "      <th>quantity</th>\n",
       "      <th>discount</th>\n",
       "      <th>profit</th>\n",
       "      <th>first_name</th>\n",
       "      <th>surname</th>\n",
       "      <th>address_id</th>\n",
       "    </tr>\n",
       "  </thead>\n",
       "  <tbody>\n",
       "    <tr>\n",
       "      <th>1159</th>\n",
       "      <td>1160</td>\n",
       "      <td>CA-2017-147039</td>\n",
       "      <td>2017-06-29</td>\n",
       "      <td>7/4/2017</td>\n",
       "      <td>Standard Class</td>\n",
       "      <td>AA-10315</td>\n",
       "      <td>Alex Avila</td>\n",
       "      <td>Consumer</td>\n",
       "      <td>United States</td>\n",
       "      <td>Minneapolis</td>\n",
       "      <td>...</td>\n",
       "      <td>Office Supplies</td>\n",
       "      <td>Appliances</td>\n",
       "      <td>Belkin 325VA UPS Surge Protector, 6'</td>\n",
       "      <td>362.940</td>\n",
       "      <td>3</td>\n",
       "      <td>0.0</td>\n",
       "      <td>90.7350</td>\n",
       "      <td>Alex</td>\n",
       "      <td>Avila</td>\n",
       "      <td>AA-10315A1</td>\n",
       "    </tr>\n",
       "    <tr>\n",
       "      <th>1299</th>\n",
       "      <td>1300</td>\n",
       "      <td>CA-2015-121391</td>\n",
       "      <td>2015-10-04</td>\n",
       "      <td>10/7/2015</td>\n",
       "      <td>First Class</td>\n",
       "      <td>AA-10315</td>\n",
       "      <td>Alex Avila</td>\n",
       "      <td>Consumer</td>\n",
       "      <td>United States</td>\n",
       "      <td>San Francisco</td>\n",
       "      <td>...</td>\n",
       "      <td>Office Supplies</td>\n",
       "      <td>Storage</td>\n",
       "      <td>Tenex Personal Project File with Scoop Front D...</td>\n",
       "      <td>26.960</td>\n",
       "      <td>2</td>\n",
       "      <td>0.0</td>\n",
       "      <td>7.0096</td>\n",
       "      <td>Alex</td>\n",
       "      <td>Avila</td>\n",
       "      <td>AA-10315A2</td>\n",
       "    </tr>\n",
       "    <tr>\n",
       "      <th>5198</th>\n",
       "      <td>5199</td>\n",
       "      <td>CA-2016-103982</td>\n",
       "      <td>2016-03-03</td>\n",
       "      <td>3/8/2016</td>\n",
       "      <td>Standard Class</td>\n",
       "      <td>AA-10315</td>\n",
       "      <td>Alex Avila</td>\n",
       "      <td>Consumer</td>\n",
       "      <td>United States</td>\n",
       "      <td>Round Rock</td>\n",
       "      <td>...</td>\n",
       "      <td>Office Supplies</td>\n",
       "      <td>Supplies</td>\n",
       "      <td>High Speed Automatic Electric Letter Opener</td>\n",
       "      <td>3930.072</td>\n",
       "      <td>3</td>\n",
       "      <td>0.2</td>\n",
       "      <td>-786.0144</td>\n",
       "      <td>Alex</td>\n",
       "      <td>Avila</td>\n",
       "      <td>AA-10315A3</td>\n",
       "    </tr>\n",
       "    <tr>\n",
       "      <th>7468</th>\n",
       "      <td>7469</td>\n",
       "      <td>CA-2014-138100</td>\n",
       "      <td>2014-09-15</td>\n",
       "      <td>9/20/2014</td>\n",
       "      <td>Standard Class</td>\n",
       "      <td>AA-10315</td>\n",
       "      <td>Alex Avila</td>\n",
       "      <td>Consumer</td>\n",
       "      <td>United States</td>\n",
       "      <td>New York City</td>\n",
       "      <td>...</td>\n",
       "      <td>Office Supplies</td>\n",
       "      <td>Paper</td>\n",
       "      <td>Easy-staple paper</td>\n",
       "      <td>14.940</td>\n",
       "      <td>3</td>\n",
       "      <td>0.0</td>\n",
       "      <td>7.0218</td>\n",
       "      <td>Alex</td>\n",
       "      <td>Avila</td>\n",
       "      <td>AA-10315A4</td>\n",
       "    </tr>\n",
       "    <tr>\n",
       "      <th>2229</th>\n",
       "      <td>2230</td>\n",
       "      <td>CA-2014-128055</td>\n",
       "      <td>2014-03-31</td>\n",
       "      <td>4/5/2014</td>\n",
       "      <td>Standard Class</td>\n",
       "      <td>AA-10315</td>\n",
       "      <td>Alex Avila</td>\n",
       "      <td>Consumer</td>\n",
       "      <td>United States</td>\n",
       "      <td>San Francisco</td>\n",
       "      <td>...</td>\n",
       "      <td>Office Supplies</td>\n",
       "      <td>Binders</td>\n",
       "      <td>GBC DocuBind 200 Manual Binding Machine</td>\n",
       "      <td>673.568</td>\n",
       "      <td>2</td>\n",
       "      <td>0.2</td>\n",
       "      <td>252.5880</td>\n",
       "      <td>Alex</td>\n",
       "      <td>Avila</td>\n",
       "      <td>AA-10315A5</td>\n",
       "    </tr>\n",
       "  </tbody>\n",
       "</table>\n",
       "<p>5 rows × 24 columns</p>\n",
       "</div>"
      ],
      "text/plain": [
       "      row_id        order_id  order_date  ship_date       ship_mode  \\\n",
       "1159    1160  CA-2017-147039  2017-06-29   7/4/2017  Standard Class   \n",
       "1299    1300  CA-2015-121391  2015-10-04  10/7/2015     First Class   \n",
       "5198    5199  CA-2016-103982  2016-03-03   3/8/2016  Standard Class   \n",
       "7468    7469  CA-2014-138100  2014-09-15  9/20/2014  Standard Class   \n",
       "2229    2230  CA-2014-128055  2014-03-31   4/5/2014  Standard Class   \n",
       "\n",
       "     customer_id customer_name   segment        country           city  ...  \\\n",
       "1159    AA-10315    Alex Avila  Consumer  United States    Minneapolis  ...   \n",
       "1299    AA-10315    Alex Avila  Consumer  United States  San Francisco  ...   \n",
       "5198    AA-10315    Alex Avila  Consumer  United States     Round Rock  ...   \n",
       "7468    AA-10315    Alex Avila  Consumer  United States  New York City  ...   \n",
       "2229    AA-10315    Alex Avila  Consumer  United States  San Francisco  ...   \n",
       "\n",
       "             category  sub_category  \\\n",
       "1159  Office Supplies    Appliances   \n",
       "1299  Office Supplies       Storage   \n",
       "5198  Office Supplies      Supplies   \n",
       "7468  Office Supplies         Paper   \n",
       "2229  Office Supplies       Binders   \n",
       "\n",
       "                                           product_name     sales quantity  \\\n",
       "1159               Belkin 325VA UPS Surge Protector, 6'   362.940        3   \n",
       "1299  Tenex Personal Project File with Scoop Front D...    26.960        2   \n",
       "5198        High Speed Automatic Electric Letter Opener  3930.072        3   \n",
       "7468                                  Easy-staple paper    14.940        3   \n",
       "2229            GBC DocuBind 200 Manual Binding Machine   673.568        2   \n",
       "\n",
       "     discount    profit  first_name  surname  address_id  \n",
       "1159      0.0   90.7350        Alex    Avila  AA-10315A1  \n",
       "1299      0.0    7.0096        Alex    Avila  AA-10315A2  \n",
       "5198      0.2 -786.0144        Alex    Avila  AA-10315A3  \n",
       "7468      0.0    7.0218        Alex    Avila  AA-10315A4  \n",
       "2229      0.2  252.5880        Alex    Avila  AA-10315A5  \n",
       "\n",
       "[5 rows x 24 columns]"
      ]
     },
     "metadata": {},
     "output_type": "display_data"
    }
   ],
   "source": [
    "# Create a new DataFrame for addresses with unique combinations\n",
    "addresses = eshop.drop_duplicates(subset=['customer_id', 'country', 'city', 'state', 'postal_code'])\n",
    "\n",
    "# Sort by customer_id to maintain order\n",
    "addresses.sort_values(by='customer_id', inplace=True)\n",
    "\n",
    "# Generate a unique address_id by enumerating customer addresses\n",
    "addresses['address_id'] = addresses.groupby('customer_id').cumcount() + 1\n",
    "addresses['address_id'] = addresses['customer_id'] + 'A' + addresses['address_id'].astype(str)\n",
    "\n",
    "display(addresses.head())\n"
   ]
  },
  {
   "cell_type": "code",
   "execution_count": 14,
   "metadata": {},
   "outputs": [],
   "source": [
    "# Merge this 'address_id' back into the original DataFrame\n",
    "eshop = eshop.merge(addresses[['customer_id', 'country', 'city', 'state', 'postal_code', 'address_id']], \n",
    "                    on=['customer_id', 'country', 'city', 'state', 'postal_code'], \n",
    "                    how='left')"
   ]
  },
  {
   "cell_type": "code",
   "execution_count": null,
   "metadata": {},
   "outputs": [],
   "source": [
    "# Select only the columns that exist in the 'orders' table\n",
    "orders_columns = ['order_id', 'order_date', 'ship_date', 'ship_mode', 'customer_id', 'address_id']  \n",
    "orders_df = eshop[orders_columns]\n",
    "\n",
    "\n"
   ]
  },
  {
   "cell_type": "code",
   "execution_count": 54,
   "metadata": {},
   "outputs": [
    {
     "name": "stdout",
     "output_type": "stream",
     "text": [
      "<class 'pandas.core.frame.DataFrame'>\n",
      "Index: 5009 entries, 0 to 9993\n",
      "Data columns (total 6 columns):\n",
      " #   Column       Non-Null Count  Dtype \n",
      "---  ------       --------------  ----- \n",
      " 0   order_id     5009 non-null   object\n",
      " 1   order_date   5009 non-null   object\n",
      " 2   ship_date    5009 non-null   object\n",
      " 3   ship_mode    5009 non-null   object\n",
      " 4   customer_id  5009 non-null   object\n",
      " 5   address_id   5009 non-null   object\n",
      "dtypes: object(6)\n",
      "memory usage: 273.9+ KB\n"
     ]
    },
    {
     "data": {
      "text/plain": [
       "None"
      ]
     },
     "metadata": {},
     "output_type": "display_data"
    }
   ],
   "source": [
    "orders_df_unique = orders_df.drop_duplicates()\n",
    "display(orders_df_unique.info())"
   ]
  },
  {
   "cell_type": "code",
   "execution_count": 55,
   "metadata": {},
   "outputs": [
    {
     "data": {
      "text/plain": [
       "5009"
      ]
     },
     "execution_count": 55,
     "metadata": {},
     "output_type": "execute_result"
    }
   ],
   "source": [
    "# Import the filtered data into the database\n",
    "orders_df_unique.to_sql('orders', eshop_db, if_exists='append', index=False)"
   ]
  },
  {
   "cell_type": "code",
   "execution_count": null,
   "metadata": {},
   "outputs": [],
   "source": [
    "# Select only the columns that exist in the 'orders' table\n",
    "addresses_columns = ['address_id', 'country', 'city', 'state', 'postal_code', 'region']  \n",
    "addresses_df = eshop[addresses_columns]\n",
    "addresses_df_unique = addresses_df.drop_duplicates()\n",
    "display(addresses_df.info())\n",
    "display(addresses_df_unique.info())"
   ]
  },
  {
   "cell_type": "code",
   "execution_count": 57,
   "metadata": {},
   "outputs": [
    {
     "data": {
      "text/plain": [
       "4910"
      ]
     },
     "execution_count": 57,
     "metadata": {},
     "output_type": "execute_result"
    }
   ],
   "source": [
    "addresses_df_unique.to_sql('addresses', eshop_db, if_exists='append', index=False)"
   ]
  },
  {
   "cell_type": "code",
   "execution_count": null,
   "metadata": {},
   "outputs": [],
   "source": [
    "# Select only the columns that exist in the 'orders' table\n",
    "customers_columns = ['customer_id', 'first_name', 'surname', 'segment']  \n",
    "customers_df = eshop[customers_columns]\n",
    "customers_df_unique = customers_df.drop_duplicates()\n",
    "display(customers_df.info())\n",
    "display(customers_df_unique.info())"
   ]
  },
  {
   "cell_type": "code",
   "execution_count": 59,
   "metadata": {},
   "outputs": [
    {
     "data": {
      "text/plain": [
       "793"
      ]
     },
     "execution_count": 59,
     "metadata": {},
     "output_type": "execute_result"
    }
   ],
   "source": [
    "customers_df_unique.to_sql('customers', eshop_db, if_exists='append', index=False)"
   ]
  },
  {
   "cell_type": "code",
   "execution_count": 18,
   "metadata": {},
   "outputs": [
    {
     "name": "stdout",
     "output_type": "stream",
     "text": [
      "<class 'pandas.core.frame.DataFrame'>\n",
      "RangeIndex: 9994 entries, 0 to 9993\n",
      "Data columns (total 7 columns):\n",
      " #   Column      Non-Null Count  Dtype  \n",
      "---  ------      --------------  -----  \n",
      " 0   row_id      9994 non-null   int64  \n",
      " 1   order_id    9994 non-null   object \n",
      " 2   product_id  9994 non-null   object \n",
      " 3   quantity    9994 non-null   int64  \n",
      " 4   discount    9994 non-null   float64\n",
      " 5   sales       9994 non-null   float64\n",
      " 6   profit      9994 non-null   float64\n",
      "dtypes: float64(3), int64(2), object(2)\n",
      "memory usage: 546.7+ KB\n"
     ]
    },
    {
     "data": {
      "text/plain": [
       "None"
      ]
     },
     "metadata": {},
     "output_type": "display_data"
    }
   ],
   "source": [
    "\n",
    "details_columns = ['row_id', 'order_id', 'product_id', 'quantity', 'discount', 'sales', 'profit']  \n",
    "details_df = eshop[details_columns]\n",
    "details_df_unique = details_df.drop_duplicates()\n",
    "display(details_df_unique.info())"
   ]
  },
  {
   "cell_type": "code",
   "execution_count": 22,
   "metadata": {},
   "outputs": [
    {
     "data": {
      "text/plain": [
       "9994"
      ]
     },
     "execution_count": 22,
     "metadata": {},
     "output_type": "execute_result"
    }
   ],
   "source": [
    "details_df.to_sql('order_details', eshop_db, if_exists='append', index=False)"
   ]
  },
  {
   "cell_type": "code",
   "execution_count": 20,
   "metadata": {},
   "outputs": [
    {
     "data": {
      "text/plain": [
       "<sqlite3.Cursor at 0x23eedb066c0>"
      ]
     },
     "execution_count": 20,
     "metadata": {},
     "output_type": "execute_result"
    }
   ],
   "source": [
    "c.execute('''\n",
    "DROP TABLE IF EXISTS \"order_details\";\n",
    "''')"
   ]
  },
  {
   "cell_type": "code",
   "execution_count": 21,
   "metadata": {},
   "outputs": [
    {
     "data": {
      "text/plain": [
       "<sqlite3.Cursor at 0x23eedb066c0>"
      ]
     },
     "execution_count": 21,
     "metadata": {},
     "output_type": "execute_result"
    }
   ],
   "source": [
    "c.execute('''\n",
    "CREATE TABLE IF NOT EXISTS \"order_details\" (\n",
    "    \"row_id\"\tINTEGER,      \n",
    "\t\"order_id\"\tTEXT,\n",
    "\t\"product_id\"\tTEXT,\n",
    "\t\"quantity\"\tINTEGER,\n",
    "\t\"discount\"\tREAL,\n",
    "\t\"sales\"\tREAL,\n",
    "\t\"profit\"\tREAL,\n",
    "\tPRIMARY KEY(\"row_id\")\n",
    ");\n",
    "''')"
   ]
  },
  {
   "cell_type": "code",
   "execution_count": 34,
   "metadata": {},
   "outputs": [],
   "source": [
    "products_columns = ['product_id', 'product_name', 'category', 'sub_category']  \n",
    "products_df = eshop[products_columns]\n",
    "products_df_unique = products_df.drop_duplicates()"
   ]
  },
  {
   "cell_type": "code",
   "execution_count": 36,
   "metadata": {},
   "outputs": [
    {
     "data": {
      "text/plain": [
       "1894"
      ]
     },
     "execution_count": 36,
     "metadata": {},
     "output_type": "execute_result"
    }
   ],
   "source": [
    "products_df_unique.to_sql('products', eshop_db, if_exists='append', index=False)"
   ]
  },
  {
   "cell_type": "code",
   "execution_count": 35,
   "metadata": {},
   "outputs": [
    {
     "name": "stdout",
     "output_type": "stream",
     "text": [
      "Empty DataFrame\n",
      "Columns: [product_id, product_name, category, sub_category]\n",
      "Index: []\n"
     ]
    }
   ],
   "source": [
    "# Finding duplicate rows based on 'product_id'\n",
    "duplicate_rows = products_df_unique[products_df_unique.duplicated(subset=['product_id'], keep=False)]\n",
    "\n",
    "# Displaying the duplicate rows\n",
    "print(duplicate_rows)\n"
   ]
  },
  {
   "cell_type": "code",
   "execution_count": 18,
   "metadata": {},
   "outputs": [],
   "source": [
    "# Identify duplicates\n",
    "duplicates = eshop[eshop.duplicated('product_id', keep=False)]\n"
   ]
  },
  {
   "cell_type": "code",
   "execution_count": 21,
   "metadata": {},
   "outputs": [],
   "source": [
    "\n",
    "# Function to add suffixes\n",
    "def add_suffix(sub_df):\n",
    "    suffixes = [f'-{chr(65+i)}' for i in range(len(sub_df))]\n",
    "    sub_df['product_id'] = sub_df['product_id'] + suffixes\n",
    "    return sub_df\n",
    "\n",
    "# Apply the function to each group of duplicates\n",
    "unique_df = duplicate_rows.groupby('product_id').apply(add_suffix)\n",
    "\n"
   ]
  },
  {
   "cell_type": "code",
   "execution_count": 25,
   "metadata": {},
   "outputs": [],
   "source": [
    "# Creating 'original_product_id' by slicing off the last two characters\n",
    "unique_df['original_product_id'] = unique_df['product_id'].str[:-2]\n"
   ]
  },
  {
   "cell_type": "code",
   "execution_count": 26,
   "metadata": {},
   "outputs": [],
   "source": [
    "# Create a mapping from the original product_id to the new one\n",
    "product_id_mapping = unique_df.set_index('original_product_id')['product_id'].to_dict()\n",
    "\n",
    "# Apply this mapping to the 'product_id' column in eshop\n",
    "eshop['product_id'] = eshop['product_id'].map(product_id_mapping).fillna(eshop['product_id'])\n"
   ]
  },
  {
   "cell_type": "code",
   "execution_count": 30,
   "metadata": {},
   "outputs": [],
   "source": [
    "unique_df['combined_key'] = unique_df['original_product_id'] + '_' + unique_df['product_name']\n"
   ]
  },
  {
   "cell_type": "code",
   "execution_count": 31,
   "metadata": {},
   "outputs": [],
   "source": [
    "product_id_mapping = unique_df.set_index('combined_key')['product_id'].to_dict()\n"
   ]
  },
  {
   "cell_type": "code",
   "execution_count": 32,
   "metadata": {},
   "outputs": [],
   "source": [
    "eshop['combined_key'] = eshop['product_id'].str[:-2] + '_' + eshop['product_name']\n",
    "eshop['product_id'] = eshop['combined_key'].map(product_id_mapping).fillna(eshop['product_id'])\n"
   ]
  }
 ],
 "metadata": {
  "kernelspec": {
   "display_name": "CAB",
   "language": "python",
   "name": "python3"
  },
  "language_info": {
   "codemirror_mode": {
    "name": "ipython",
    "version": 3
   },
   "file_extension": ".py",
   "mimetype": "text/x-python",
   "name": "python",
   "nbconvert_exporter": "python",
   "pygments_lexer": "ipython3",
   "version": "3.10.12"
  }
 },
 "nbformat": 4,
 "nbformat_minor": 2
}
