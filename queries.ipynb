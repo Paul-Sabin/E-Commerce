{
 "cells": [
  {
   "cell_type": "code",
   "execution_count": 8,
   "metadata": {},
   "outputs": [],
   "source": [
    "import pandas as pd\n",
    "import os\n",
    "import sqlite3\n",
    "from sqlite3 import Error"
   ]
  },
  {
   "cell_type": "code",
   "execution_count": 12,
   "metadata": {},
   "outputs": [],
   "source": [
    "eshop = pd.read_csv('C:\\Asus WebStorage\\psabin@gmail.com\\MySyncFolder\\Data Science Course\\E-Commerce\\Sample-Superstore3.csv')"
   ]
  },
  {
   "cell_type": "code",
   "execution_count": 9,
   "metadata": {},
   "outputs": [],
   "source": [
    "path = r'C:\\\\Asus WebStorage\\\\psabin@gmail.com\\\\MySyncFolder\\\\Data Science Course\\\\E-Commerce\\\\'\n",
    "eshop_db = sqlite3.connect('eshop_database.db')\n",
    "c = eshop_db.cursor()"
   ]
  },
  {
   "cell_type": "code",
   "execution_count": 10,
   "metadata": {},
   "outputs": [],
   "source": [
    "c.execute(\"SELECT * FROM customers WHERE segment = 'Corporate'\")\n",
    "rows = c.fetchall()"
   ]
  },
  {
   "cell_type": "code",
   "execution_count": 11,
   "metadata": {},
   "outputs": [],
   "source": [
    "# What is the category generating the maximum sales revenue?\n",
    "SELECT category, SUM(sales)\n",
    "FROM order_details\n",
    "JOIN products ON order_details.product_id=products.product_id\n",
    "GROUP BY products.category\n",
    "\n",
    "   # What about the profit in this category?\n",
    "   # Are they making a loss in any categories?"
   ]
  },
  {
   "cell_type": "code",
   "execution_count": 14,
   "metadata": {},
   "outputs": [
    {
     "data": {
      "text/plain": [
       "<sqlite3.Cursor at 0x2208880adc0>"
      ]
     },
     "execution_count": 14,
     "metadata": {},
     "output_type": "execute_result"
    }
   ],
   "source": [
    "c.execute(\"ALTER TABLE addresses RENAME COLUMN address_id TO AddressID;\")\n",
    "c.execute(\"ALTER TABLE addresses RENAME COLUMN country TO Country;\")\n",
    "c.execute(\"ALTER TABLE addresses RENAME COLUMN city TO City;\")\n",
    "c.execute(\"ALTER TABLE addresses RENAME COLUMN state TO State;\")\n",
    "c.execute(\"ALTER TABLE addresses RENAME COLUMN postal_code TO PostalCode;\")\n",
    "c.execute(\"ALTER TABLE addresses RENAME COLUMN region TO Region;\")\n"
   ]
  },
  {
   "cell_type": "code",
   "execution_count": 15,
   "metadata": {},
   "outputs": [
    {
     "data": {
      "text/plain": [
       "<sqlite3.Cursor at 0x2208880adc0>"
      ]
     },
     "execution_count": 15,
     "metadata": {},
     "output_type": "execute_result"
    }
   ],
   "source": [
    "c.execute(\"ALTER TABLE customers RENAME COLUMN customer_id TO CustomerID;\")\n",
    "c.execute(\"ALTER TABLE customers RENAME COLUMN first_name TO FirstName;\")\n",
    "c.execute(\"ALTER TABLE customers RENAME COLUMN surname TO Surname;\")\n",
    "c.execute(\"ALTER TABLE customers RENAME COLUMN segment TO Segment;\")\n"
   ]
  },
  {
   "cell_type": "code",
   "execution_count": 16,
   "metadata": {},
   "outputs": [
    {
     "data": {
      "text/plain": [
       "<sqlite3.Cursor at 0x2208880adc0>"
      ]
     },
     "execution_count": 16,
     "metadata": {},
     "output_type": "execute_result"
    }
   ],
   "source": [
    "c.execute(\"ALTER TABLE order_details RENAME COLUMN row_id TO RowID;\")\n",
    "c.execute(\"ALTER TABLE order_details RENAME COLUMN order_id TO OrderID;\")\n",
    "c.execute(\"ALTER TABLE order_details RENAME COLUMN product_id TO ProductID;\")\n",
    "c.execute(\"ALTER TABLE order_details RENAME COLUMN quantity TO Quantity;\")\n",
    "c.execute(\"ALTER TABLE order_details RENAME COLUMN discount TO Discount;\")\n",
    "c.execute(\"ALTER TABLE order_details RENAME COLUMN sales TO Sales;\")\n",
    "c.execute(\"ALTER TABLE order_details RENAME COLUMN profit TO Profit;\")\n"
   ]
  },
  {
   "cell_type": "code",
   "execution_count": 18,
   "metadata": {},
   "outputs": [
    {
     "data": {
      "text/plain": [
       "<sqlite3.Cursor at 0x2208880adc0>"
      ]
     },
     "execution_count": 18,
     "metadata": {},
     "output_type": "execute_result"
    }
   ],
   "source": [
    "c.execute(\"ALTER TABLE orders RENAME COLUMN order_id TO OrderID;\")\n",
    "c.execute(\"ALTER TABLE orders RENAME COLUMN order_date TO OrderDate;\")\n",
    "c.execute(\"ALTER TABLE orders RENAME COLUMN ship_date TO ShipDate;\")\n",
    "c.execute(\"ALTER TABLE orders RENAME COLUMN ship_mode TO ShipMode;\")\n",
    "c.execute(\"ALTER TABLE orders RENAME COLUMN customer_id TO CustomerID;\")\n",
    "c.execute(\"ALTER TABLE orders RENAME COLUMN address_id TO AddressID;\")\n"
   ]
  },
  {
   "cell_type": "code",
   "execution_count": 19,
   "metadata": {},
   "outputs": [
    {
     "data": {
      "text/plain": [
       "<sqlite3.Cursor at 0x2208880adc0>"
      ]
     },
     "execution_count": 19,
     "metadata": {},
     "output_type": "execute_result"
    }
   ],
   "source": [
    "c.execute(\"ALTER TABLE products RENAME COLUMN product_id TO ProductID;\")\n",
    "c.execute(\"ALTER TABLE products RENAME COLUMN product_name TO ProductName;\")\n",
    "c.execute(\"ALTER TABLE products RENAME COLUMN category TO Category;\")\n",
    "c.execute(\"ALTER TABLE products RENAME COLUMN sub_category TO SubCategory;\")\n"
   ]
  },
  {
   "cell_type": "code",
   "execution_count": 21,
   "metadata": {},
   "outputs": [
    {
     "data": {
      "text/plain": [
       "<sqlite3.Cursor at 0x2208880adc0>"
      ]
     },
     "execution_count": 21,
     "metadata": {},
     "output_type": "execute_result"
    }
   ],
   "source": [
    "c.execute(\"ALTER TABLE order_details RENAME TO OrderDetails;\")\n"
   ]
  },
  {
   "cell_type": "code",
   "execution_count": 22,
   "metadata": {},
   "outputs": [
    {
     "data": {
      "text/plain": [
       "<sqlite3.Cursor at 0x2208880adc0>"
      ]
     },
     "execution_count": 22,
     "metadata": {},
     "output_type": "execute_result"
    }
   ],
   "source": [
    "c.execute(\"ALTER TABLE addresses RENAME TO arr;\")"
   ]
  },
  {
   "cell_type": "code",
   "execution_count": 23,
   "metadata": {},
   "outputs": [
    {
     "data": {
      "text/plain": [
       "<sqlite3.Cursor at 0x2208880adc0>"
      ]
     },
     "execution_count": 23,
     "metadata": {},
     "output_type": "execute_result"
    }
   ],
   "source": [
    "c.execute(\"ALTER TABLE arr RENAME TO Addresses;\")"
   ]
  },
  {
   "cell_type": "code",
   "execution_count": 24,
   "metadata": {},
   "outputs": [
    {
     "data": {
      "text/plain": [
       "<sqlite3.Cursor at 0x2208880adc0>"
      ]
     },
     "execution_count": 24,
     "metadata": {},
     "output_type": "execute_result"
    }
   ],
   "source": [
    "c.execute(\"ALTER TABLE customers RENAME TO cus;\")\n",
    "c.execute(\"ALTER TABLE cus RENAME TO Customers;\")\n",
    "c.execute(\"ALTER TABLE orders RENAME TO ord;\")\n",
    "c.execute(\"ALTER TABLE ord RENAME TO Orders;\")\n",
    "c.execute(\"ALTER TABLE products RENAME TO pro;\")\n",
    "c.execute(\"ALTER TABLE pro RENAME TO Products;\")"
   ]
  },
  {
   "cell_type": "code",
   "execution_count": 26,
   "metadata": {},
   "outputs": [],
   "source": [
    "c.close()"
   ]
  }
 ],
 "metadata": {
  "kernelspec": {
   "display_name": "CAB",
   "language": "python",
   "name": "python3"
  },
  "language_info": {
   "codemirror_mode": {
    "name": "ipython",
    "version": 3
   },
   "file_extension": ".py",
   "mimetype": "text/x-python",
   "name": "python",
   "nbconvert_exporter": "python",
   "pygments_lexer": "ipython3",
   "version": "3.10.12"
  }
 },
 "nbformat": 4,
 "nbformat_minor": 2
}
