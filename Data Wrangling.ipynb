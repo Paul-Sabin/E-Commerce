{
 "cells": [
  {
   "cell_type": "code",
   "execution_count": 1,
   "metadata": {},
   "outputs": [],
   "source": [
    "import pandas as pd"
   ]
  },
  {
   "cell_type": "markdown",
   "metadata": {},
   "source": [
    "Import CSV"
   ]
  },
  {
   "cell_type": "code",
   "execution_count": 5,
   "metadata": {},
   "outputs": [],
   "source": [
    "eshop = pd.read_csv('Sample-Superstore.csv', encoding='latin1')"
   ]
  },
  {
   "cell_type": "code",
   "execution_count": 13,
   "metadata": {},
   "outputs": [
    {
     "data": {
      "text/html": [
       "<div>\n",
       "<style scoped>\n",
       "    .dataframe tbody tr th:only-of-type {\n",
       "        vertical-align: middle;\n",
       "    }\n",
       "\n",
       "    .dataframe tbody tr th {\n",
       "        vertical-align: top;\n",
       "    }\n",
       "\n",
       "    .dataframe thead th {\n",
       "        text-align: right;\n",
       "    }\n",
       "</style>\n",
       "<table border=\"1\" class=\"dataframe\">\n",
       "  <thead>\n",
       "    <tr style=\"text-align: right;\">\n",
       "      <th></th>\n",
       "      <th>Row ID</th>\n",
       "      <th>Order ID</th>\n",
       "      <th>Order Date</th>\n",
       "      <th>Ship Date</th>\n",
       "      <th>Ship Mode</th>\n",
       "      <th>Customer ID</th>\n",
       "      <th>Customer Name</th>\n",
       "      <th>Segment</th>\n",
       "      <th>Country</th>\n",
       "      <th>City</th>\n",
       "      <th>...</th>\n",
       "      <th>Postal Code</th>\n",
       "      <th>Region</th>\n",
       "      <th>Product ID</th>\n",
       "      <th>Category</th>\n",
       "      <th>Sub-Category</th>\n",
       "      <th>Product Name</th>\n",
       "      <th>Sales</th>\n",
       "      <th>Quantity</th>\n",
       "      <th>Discount</th>\n",
       "      <th>Profit</th>\n",
       "    </tr>\n",
       "  </thead>\n",
       "  <tbody>\n",
       "    <tr>\n",
       "      <th>0</th>\n",
       "      <td>1</td>\n",
       "      <td>CA-2016-152156</td>\n",
       "      <td>11/8/2016</td>\n",
       "      <td>2016-11-11</td>\n",
       "      <td>Second Class</td>\n",
       "      <td>CG-12520</td>\n",
       "      <td>Claire Gute</td>\n",
       "      <td>Consumer</td>\n",
       "      <td>United States</td>\n",
       "      <td>Henderson</td>\n",
       "      <td>...</td>\n",
       "      <td>42420</td>\n",
       "      <td>South</td>\n",
       "      <td>FUR-BO-10001798</td>\n",
       "      <td>Furniture</td>\n",
       "      <td>Bookcases</td>\n",
       "      <td>Bush Somerset Collection Bookcase</td>\n",
       "      <td>261.9600</td>\n",
       "      <td>2</td>\n",
       "      <td>0.00</td>\n",
       "      <td>41.9136</td>\n",
       "    </tr>\n",
       "    <tr>\n",
       "      <th>1</th>\n",
       "      <td>2</td>\n",
       "      <td>CA-2016-152156</td>\n",
       "      <td>11/8/2016</td>\n",
       "      <td>2016-11-11</td>\n",
       "      <td>Second Class</td>\n",
       "      <td>CG-12520</td>\n",
       "      <td>Claire Gute</td>\n",
       "      <td>Consumer</td>\n",
       "      <td>United States</td>\n",
       "      <td>Henderson</td>\n",
       "      <td>...</td>\n",
       "      <td>42420</td>\n",
       "      <td>South</td>\n",
       "      <td>FUR-CH-10000454</td>\n",
       "      <td>Furniture</td>\n",
       "      <td>Chairs</td>\n",
       "      <td>Hon Deluxe Fabric Upholstered Stacking Chairs,...</td>\n",
       "      <td>731.9400</td>\n",
       "      <td>3</td>\n",
       "      <td>0.00</td>\n",
       "      <td>219.5820</td>\n",
       "    </tr>\n",
       "    <tr>\n",
       "      <th>2</th>\n",
       "      <td>3</td>\n",
       "      <td>CA-2016-138688</td>\n",
       "      <td>6/12/2016</td>\n",
       "      <td>2016-06-16</td>\n",
       "      <td>Second Class</td>\n",
       "      <td>DV-13045</td>\n",
       "      <td>Darrin Van Huff</td>\n",
       "      <td>Corporate</td>\n",
       "      <td>United States</td>\n",
       "      <td>Los Angeles</td>\n",
       "      <td>...</td>\n",
       "      <td>90036</td>\n",
       "      <td>West</td>\n",
       "      <td>OFF-LA-10000240</td>\n",
       "      <td>Office Supplies</td>\n",
       "      <td>Labels</td>\n",
       "      <td>Self-Adhesive Address Labels for Typewriters b...</td>\n",
       "      <td>14.6200</td>\n",
       "      <td>2</td>\n",
       "      <td>0.00</td>\n",
       "      <td>6.8714</td>\n",
       "    </tr>\n",
       "    <tr>\n",
       "      <th>3</th>\n",
       "      <td>4</td>\n",
       "      <td>US-2015-108966</td>\n",
       "      <td>10/11/2015</td>\n",
       "      <td>2015-10-18</td>\n",
       "      <td>Standard Class</td>\n",
       "      <td>SO-20335</td>\n",
       "      <td>Sean O'Donnell</td>\n",
       "      <td>Consumer</td>\n",
       "      <td>United States</td>\n",
       "      <td>Fort Lauderdale</td>\n",
       "      <td>...</td>\n",
       "      <td>33311</td>\n",
       "      <td>South</td>\n",
       "      <td>FUR-TA-10000577</td>\n",
       "      <td>Furniture</td>\n",
       "      <td>Tables</td>\n",
       "      <td>Bretford CR4500 Series Slim Rectangular Table</td>\n",
       "      <td>957.5775</td>\n",
       "      <td>5</td>\n",
       "      <td>0.45</td>\n",
       "      <td>-383.0310</td>\n",
       "    </tr>\n",
       "    <tr>\n",
       "      <th>4</th>\n",
       "      <td>5</td>\n",
       "      <td>US-2015-108966</td>\n",
       "      <td>10/11/2015</td>\n",
       "      <td>2015-10-18</td>\n",
       "      <td>Standard Class</td>\n",
       "      <td>SO-20335</td>\n",
       "      <td>Sean O'Donnell</td>\n",
       "      <td>Consumer</td>\n",
       "      <td>United States</td>\n",
       "      <td>Fort Lauderdale</td>\n",
       "      <td>...</td>\n",
       "      <td>33311</td>\n",
       "      <td>South</td>\n",
       "      <td>OFF-ST-10000760</td>\n",
       "      <td>Office Supplies</td>\n",
       "      <td>Storage</td>\n",
       "      <td>Eldon Fold 'N Roll Cart System</td>\n",
       "      <td>22.3680</td>\n",
       "      <td>2</td>\n",
       "      <td>0.20</td>\n",
       "      <td>2.5164</td>\n",
       "    </tr>\n",
       "  </tbody>\n",
       "</table>\n",
       "<p>5 rows × 21 columns</p>\n",
       "</div>"
      ],
      "text/plain": [
       "   Row ID        Order ID  Order Date   Ship Date       Ship Mode Customer ID  \\\n",
       "0       1  CA-2016-152156   11/8/2016  2016-11-11    Second Class    CG-12520   \n",
       "1       2  CA-2016-152156   11/8/2016  2016-11-11    Second Class    CG-12520   \n",
       "2       3  CA-2016-138688   6/12/2016  2016-06-16    Second Class    DV-13045   \n",
       "3       4  US-2015-108966  10/11/2015  2015-10-18  Standard Class    SO-20335   \n",
       "4       5  US-2015-108966  10/11/2015  2015-10-18  Standard Class    SO-20335   \n",
       "\n",
       "     Customer Name    Segment        Country             City  ...  \\\n",
       "0      Claire Gute   Consumer  United States        Henderson  ...   \n",
       "1      Claire Gute   Consumer  United States        Henderson  ...   \n",
       "2  Darrin Van Huff  Corporate  United States      Los Angeles  ...   \n",
       "3   Sean O'Donnell   Consumer  United States  Fort Lauderdale  ...   \n",
       "4   Sean O'Donnell   Consumer  United States  Fort Lauderdale  ...   \n",
       "\n",
       "  Postal Code  Region       Product ID         Category Sub-Category  \\\n",
       "0       42420   South  FUR-BO-10001798        Furniture    Bookcases   \n",
       "1       42420   South  FUR-CH-10000454        Furniture       Chairs   \n",
       "2       90036    West  OFF-LA-10000240  Office Supplies       Labels   \n",
       "3       33311   South  FUR-TA-10000577        Furniture       Tables   \n",
       "4       33311   South  OFF-ST-10000760  Office Supplies      Storage   \n",
       "\n",
       "                                        Product Name     Sales  Quantity  \\\n",
       "0                  Bush Somerset Collection Bookcase  261.9600         2   \n",
       "1  Hon Deluxe Fabric Upholstered Stacking Chairs,...  731.9400         3   \n",
       "2  Self-Adhesive Address Labels for Typewriters b...   14.6200         2   \n",
       "3      Bretford CR4500 Series Slim Rectangular Table  957.5775         5   \n",
       "4                     Eldon Fold 'N Roll Cart System   22.3680         2   \n",
       "\n",
       "   Discount    Profit  \n",
       "0      0.00   41.9136  \n",
       "1      0.00  219.5820  \n",
       "2      0.00    6.8714  \n",
       "3      0.45 -383.0310  \n",
       "4      0.20    2.5164  \n",
       "\n",
       "[5 rows x 21 columns]"
      ]
     },
     "metadata": {},
     "output_type": "display_data"
    }
   ],
   "source": [
    "display(eshop.head())"
   ]
  },
  {
   "cell_type": "markdown",
   "metadata": {},
   "source": [
    "Describe contents"
   ]
  },
  {
   "cell_type": "code",
   "execution_count": 15,
   "metadata": {},
   "outputs": [
    {
     "data": {
      "text/html": [
       "<div>\n",
       "<style scoped>\n",
       "    .dataframe tbody tr th:only-of-type {\n",
       "        vertical-align: middle;\n",
       "    }\n",
       "\n",
       "    .dataframe tbody tr th {\n",
       "        vertical-align: top;\n",
       "    }\n",
       "\n",
       "    .dataframe thead th {\n",
       "        text-align: right;\n",
       "    }\n",
       "</style>\n",
       "<table border=\"1\" class=\"dataframe\">\n",
       "  <thead>\n",
       "    <tr style=\"text-align: right;\">\n",
       "      <th></th>\n",
       "      <th>Row ID</th>\n",
       "      <th>Postal Code</th>\n",
       "      <th>Sales</th>\n",
       "      <th>Quantity</th>\n",
       "      <th>Discount</th>\n",
       "      <th>Profit</th>\n",
       "    </tr>\n",
       "  </thead>\n",
       "  <tbody>\n",
       "    <tr>\n",
       "      <th>count</th>\n",
       "      <td>9994.000000</td>\n",
       "      <td>9994.000000</td>\n",
       "      <td>9994.000000</td>\n",
       "      <td>9994.000000</td>\n",
       "      <td>9994.000000</td>\n",
       "      <td>9994.000000</td>\n",
       "    </tr>\n",
       "    <tr>\n",
       "      <th>mean</th>\n",
       "      <td>4997.500000</td>\n",
       "      <td>55190.379428</td>\n",
       "      <td>229.858001</td>\n",
       "      <td>3.789574</td>\n",
       "      <td>0.156203</td>\n",
       "      <td>28.656896</td>\n",
       "    </tr>\n",
       "    <tr>\n",
       "      <th>std</th>\n",
       "      <td>2885.163629</td>\n",
       "      <td>32063.693350</td>\n",
       "      <td>623.245101</td>\n",
       "      <td>2.225110</td>\n",
       "      <td>0.206452</td>\n",
       "      <td>234.260108</td>\n",
       "    </tr>\n",
       "    <tr>\n",
       "      <th>min</th>\n",
       "      <td>1.000000</td>\n",
       "      <td>1040.000000</td>\n",
       "      <td>0.444000</td>\n",
       "      <td>1.000000</td>\n",
       "      <td>0.000000</td>\n",
       "      <td>-6599.978000</td>\n",
       "    </tr>\n",
       "    <tr>\n",
       "      <th>25%</th>\n",
       "      <td>2499.250000</td>\n",
       "      <td>23223.000000</td>\n",
       "      <td>17.280000</td>\n",
       "      <td>2.000000</td>\n",
       "      <td>0.000000</td>\n",
       "      <td>1.728750</td>\n",
       "    </tr>\n",
       "    <tr>\n",
       "      <th>50%</th>\n",
       "      <td>4997.500000</td>\n",
       "      <td>56430.500000</td>\n",
       "      <td>54.490000</td>\n",
       "      <td>3.000000</td>\n",
       "      <td>0.200000</td>\n",
       "      <td>8.666500</td>\n",
       "    </tr>\n",
       "    <tr>\n",
       "      <th>75%</th>\n",
       "      <td>7495.750000</td>\n",
       "      <td>90008.000000</td>\n",
       "      <td>209.940000</td>\n",
       "      <td>5.000000</td>\n",
       "      <td>0.200000</td>\n",
       "      <td>29.364000</td>\n",
       "    </tr>\n",
       "    <tr>\n",
       "      <th>max</th>\n",
       "      <td>9994.000000</td>\n",
       "      <td>99301.000000</td>\n",
       "      <td>22638.480000</td>\n",
       "      <td>14.000000</td>\n",
       "      <td>0.800000</td>\n",
       "      <td>8399.976000</td>\n",
       "    </tr>\n",
       "  </tbody>\n",
       "</table>\n",
       "</div>"
      ],
      "text/plain": [
       "            Row ID   Postal Code         Sales     Quantity     Discount  \\\n",
       "count  9994.000000   9994.000000   9994.000000  9994.000000  9994.000000   \n",
       "mean   4997.500000  55190.379428    229.858001     3.789574     0.156203   \n",
       "std    2885.163629  32063.693350    623.245101     2.225110     0.206452   \n",
       "min       1.000000   1040.000000      0.444000     1.000000     0.000000   \n",
       "25%    2499.250000  23223.000000     17.280000     2.000000     0.000000   \n",
       "50%    4997.500000  56430.500000     54.490000     3.000000     0.200000   \n",
       "75%    7495.750000  90008.000000    209.940000     5.000000     0.200000   \n",
       "max    9994.000000  99301.000000  22638.480000    14.000000     0.800000   \n",
       "\n",
       "            Profit  \n",
       "count  9994.000000  \n",
       "mean     28.656896  \n",
       "std     234.260108  \n",
       "min   -6599.978000  \n",
       "25%       1.728750  \n",
       "50%       8.666500  \n",
       "75%      29.364000  \n",
       "max    8399.976000  "
      ]
     },
     "metadata": {},
     "output_type": "display_data"
    },
    {
     "name": "stdout",
     "output_type": "stream",
     "text": [
      "<class 'pandas.core.frame.DataFrame'>\n",
      "RangeIndex: 9994 entries, 0 to 9993\n",
      "Data columns (total 21 columns):\n",
      " #   Column         Non-Null Count  Dtype  \n",
      "---  ------         --------------  -----  \n",
      " 0   Row ID         9994 non-null   int64  \n",
      " 1   Order ID       9994 non-null   object \n",
      " 2   Order Date     9994 non-null   object \n",
      " 3   Ship Date      9994 non-null   object \n",
      " 4   Ship Mode      9994 non-null   object \n",
      " 5   Customer ID    9994 non-null   object \n",
      " 6   Customer Name  9994 non-null   object \n",
      " 7   Segment        9994 non-null   object \n",
      " 8   Country        9994 non-null   object \n",
      " 9   City           9994 non-null   object \n",
      " 10  State          9994 non-null   object \n",
      " 11  Postal Code    9994 non-null   int64  \n",
      " 12  Region         9994 non-null   object \n",
      " 13  Product ID     9994 non-null   object \n",
      " 14  Category       9994 non-null   object \n",
      " 15  Sub-Category   9994 non-null   object \n",
      " 16  Product Name   9994 non-null   object \n",
      " 17  Sales          9994 non-null   float64\n",
      " 18  Quantity       9994 non-null   int64  \n",
      " 19  Discount       9994 non-null   float64\n",
      " 20  Profit         9994 non-null   float64\n",
      "dtypes: float64(3), int64(3), object(15)\n",
      "memory usage: 1.6+ MB\n"
     ]
    },
    {
     "data": {
      "text/plain": [
       "None"
      ]
     },
     "metadata": {},
     "output_type": "display_data"
    }
   ],
   "source": [
    "display(eshop.describe())\n",
    "display(eshop.info())"
   ]
  },
  {
   "cell_type": "markdown",
   "metadata": {},
   "source": [
    "Check for missing values"
   ]
  },
  {
   "cell_type": "code",
   "execution_count": 9,
   "metadata": {},
   "outputs": [
    {
     "data": {
      "text/plain": [
       "Row ID           0\n",
       "Order ID         0\n",
       "Order Date       0\n",
       "Ship Date        0\n",
       "Ship Mode        0\n",
       "Customer ID      0\n",
       "Customer Name    0\n",
       "Segment          0\n",
       "Country          0\n",
       "City             0\n",
       "State            0\n",
       "Postal Code      0\n",
       "Region           0\n",
       "Product ID       0\n",
       "Category         0\n",
       "Sub-Category     0\n",
       "Product Name     0\n",
       "Sales            0\n",
       "Quantity         0\n",
       "Discount         0\n",
       "Profit           0\n",
       "dtype: int64"
      ]
     },
     "metadata": {},
     "output_type": "display_data"
    }
   ],
   "source": [
    "display(eshop.isna().sum())"
   ]
  },
  {
   "cell_type": "markdown",
   "metadata": {},
   "source": [
    "Change any specific column names"
   ]
  },
  {
   "cell_type": "code",
   "execution_count": null,
   "metadata": {},
   "outputs": [],
   "source": [
    "dweather.rename({'temperature_2m_mean (°c)': 'mean_temp'}, axis='columns', inplace=True)\n",
    "display(dweather.head())"
   ]
  },
  {
   "cell_type": "markdown",
   "metadata": {},
   "source": [
    "Reorder columns"
   ]
  },
  {
   "cell_type": "code",
   "execution_count": null,
   "metadata": {},
   "outputs": [],
   "source": [
    "# copy list from df.columns\n",
    "# Put columns in desired order\n",
    "stations = stations.reindex(columns=['station_name','start_count', 'end_count', 'net_total', 'weekday_am_net',\n",
    "       'weekday_pm_net', 'fun_am_net', 'fun_pm_net', 'start_station_id', 'start_lat',\n",
    "       'start_lng'])"
   ]
  },
  {
   "cell_type": "markdown",
   "metadata": {},
   "source": [
    "Convert 'date' column values from 'object' to 'datetime64'"
   ]
  },
  {
   "cell_type": "code",
   "execution_count": null,
   "metadata": {},
   "outputs": [],
   "source": [
    "dweather['date'] = pd.to_datetime(dweather['date'])"
   ]
  },
  {
   "cell_type": "markdown",
   "metadata": {},
   "source": [
    "Once happy, create a copy"
   ]
  },
  {
   "cell_type": "code",
   "execution_count": null,
   "metadata": {},
   "outputs": [],
   "source": [
    "copy_dweather = dweather.copy()"
   ]
  },
  {
   "cell_type": "markdown",
   "metadata": {},
   "source": [
    "Replace NaN values with 0"
   ]
  },
  {
   "cell_type": "code",
   "execution_count": null,
   "metadata": {},
   "outputs": [],
   "source": [
    "dweather['member'] = dweather['casual'].fillna(0)"
   ]
  },
  {
   "cell_type": "code",
   "execution_count": 14,
   "metadata": {},
   "outputs": [],
   "source": [
    "eshop['Order Date'] = pd.to_datetime(eshop['Ship Date']).dt.strftime('%Y-%m-%d')\n"
   ]
  },
  {
   "cell_type": "code",
   "execution_count": 16,
   "metadata": {},
   "outputs": [
    {
     "name": "stdout",
     "output_type": "stream",
     "text": [
      "['AA-10315', 'AA-10375', 'AA-10480', 'AA-10645', 'AB-10015', 'AB-10060', 'AB-10105', 'AB-10150', 'AB-10165', 'AB-10255', 'AB-10600', 'AC-10420', 'AC-10450', 'AC-10615', 'AC-10660', 'AD-10180', 'AF-10870', 'AF-10885', 'AG-10270', 'AG-10300', 'AG-10330', 'AG-10390', 'AG-10495', 'AG-10525', 'AG-10675', 'AG-10765', 'AG-10900', 'AH-10030', 'AH-10075', 'AH-10120', 'AH-10195', 'AH-10210', 'AH-10465', 'AH-10585', 'AH-10690', 'AI-10855', 'AJ-10780', 'AJ-10795', 'AJ-10945', 'AJ-10960', 'AM-10360', 'AM-10705', 'AP-10720', 'AP-10915', 'AR-10345', 'AR-10405', 'AR-10510', 'AR-10540', 'AR-10825', 'AS-10045', 'AS-10090', 'AS-10135', 'AS-10225', 'AS-10240', 'AS-10285', 'AS-10630', 'AT-10435', 'AT-10735', 'AW-10840', 'AW-10930', 'AY-10555', 'AZ-10750', 'BB-10990', 'BB-11545', 'BC-11125', 'BD-11320', 'BD-11500', 'BD-11560', 'BD-11605', 'BD-11620', 'BD-11635', 'BD-11725', 'BD-11770', 'BE-11335', 'BE-11410', 'BE-11455', 'BF-10975', 'BF-11005', 'BF-11020', 'BF-11080', 'BF-11170', 'BF-11215', 'BF-11275', 'BG-11035', 'BG-11695', 'BG-11740', 'BH-11710', 'BK-11260', 'BM-11140', 'BM-11575', 'BM-11650', 'BM-11785', 'BN-11470', 'BN-11515', 'BO-11350', 'BO-11425', 'BP-11050', 'BP-11095', 'BP-11155', 'BP-11185', 'BP-11230', 'BP-11290', 'BS-11365', 'BS-11380', 'BS-11590', 'BS-11665', 'BS-11755', 'BS-11800', 'BT-11305', 'BT-11395', 'BT-11440', 'BT-11485', 'BT-11530', 'BT-11680', 'BV-11245', 'BW-11065', 'BW-11110', 'BW-11200', 'CA-11965', 'CA-12055', 'CA-12265', 'CA-12310', 'CA-12775', 'CB-12025', 'CB-12415', 'CB-12535', 'CC-12100', 'CC-12145', 'CC-12220', 'CC-12370', 'CC-12430', 'CC-12475', 'CC-12550', 'CC-12610', 'CC-12670', 'CC-12685', 'CD-11920', 'CD-11980', 'CD-12280', 'CD-12790', 'CG-12040', 'CG-12520', 'CH-12070', 'CJ-12010', 'CK-12205', 'CK-12325', 'CK-12595', 'CK-12760', 'CL-11890', 'CL-12565', 'CL-12700', 'CM-11815', 'CM-11935', 'CM-12115', 'CM-12160', 'CM-12190', 'CM-12235', 'CM-12385', 'CM-12445', 'CM-12655', 'CM-12715', 'CP-12085', 'CP-12340', 'CR-12580', 'CR-12625', 'CR-12730', 'CR-12820', 'CS-11845', 'CS-11860', 'CS-11950', 'CS-12130', 'CS-12175', 'CS-12250', 'CS-12355', 'CS-12400', 'CS-12460', 'CS-12490', 'CS-12505', 'CT-11995', 'CV-12295', 'CV-12805', 'CW-11905', 'CY-12745', 'Co-12640', 'DA-13450', 'DB-12910', 'DB-12970', 'DB-13060', 'DB-13120', 'DB-13210', 'DB-13270', 'DB-13360', 'DB-13405', 'DB-13555', 'DB-13615', 'DB-13660', 'DC-12850', 'DC-13285', 'DD-13570', 'DE-13255', 'DF-13135', 'DG-13300', 'DH-13075', 'DH-13675', 'DJ-13420', 'DJ-13510', 'DJ-13630', 'DK-12835', 'DK-12895', 'DK-12985', 'DK-13090', 'DK-13150', 'DK-13225', 'DK-13375', 'DL-12865', 'DL-12925', 'DL-13315', 'DL-13330', 'DL-13495', 'DM-12955', 'DM-13015', 'DM-13345', 'DM-13525', 'DN-13690', 'DO-13435', 'DO-13645', 'DP-13000', 'DP-13105', 'DP-13165', 'DP-13390', 'DR-12880', 'DR-12940', 'DS-13030', 'DS-13180', 'DV-13045', 'DV-13465', 'DW-13195', 'DW-13480', 'DW-13540', 'DW-13585', 'Dl-13600', 'Dp-13240', 'EA-14035', 'EB-13705', 'EB-13750', 'EB-13840', 'EB-13870', 'EB-13930', 'EB-13975', 'EB-14110', 'EB-14170', 'EC-14050', 'ED-13885', 'EG-13900', 'EH-13765', 'EH-13945', 'EH-13990', 'EH-14005', 'EH-14125', 'EH-14185', 'EJ-13720', 'EJ-14155', 'EK-13795', 'EL-13735', 'EM-13810', 'EM-13825', 'EM-13960', 'EM-14065', 'EM-14095', 'EM-14140', 'EM-14200', 'EN-13780', 'EP-13915', 'ER-13855', 'ES-14020', 'ES-14080', 'FA-14230', 'FC-14245', 'FC-14335', 'FG-14260', 'FH-14275', 'FH-14350', 'FH-14365', 'FM-14215', 'FM-14290', 'FM-14380', 'FO-14305', 'FP-14320', 'FW-14395', 'GA-14515', 'GA-14725', 'GB-14530', 'GB-14575', 'GD-14590', 'GG-14650', 'GH-14410', 'GH-14425', 'GH-14485', 'GH-14665', 'GK-14620', 'GM-14440', 'GM-14455', 'GM-14500', 'GM-14680', 'GM-14695', 'GP-14740', 'GR-14560', 'GT-14635', 'GT-14710', 'GT-14755', 'GW-14605', 'GZ-14470', 'GZ-14545', 'HA-14905', 'HA-14920', 'HD-14785', 'HE-14800', 'HF-14995', 'HG-14845', 'HG-14965', 'HG-15025', 'HJ-14875', 'HK-14890', 'HL-15040', 'HM-14860', 'HM-14980', 'HP-14815', 'HR-14770', 'HR-14830', 'HW-14935', 'HZ-14950', 'IG-15085', 'IL-15100', 'IM-15055', 'IM-15070', 'JA-15970', 'JB-15400', 'JB-15925', 'JB-16000', 'JB-16045', 'JC-15340', 'JC-15775', 'JC-16105', 'JD-15790', 'JD-15895', 'JD-16015', 'JD-16060', 'JD-16150', 'JE-15475', 'JE-15610', 'JE-15715', 'JE-15745', 'JE-16165', 'JF-15190', 'JF-15295', 'JF-15355', 'JF-15415', 'JF-15490', 'JF-15565', 'JG-15115', 'JG-15160', 'JG-15310', 'JG-15805', 'JH-15430', 'JH-15820', 'JH-15910', 'JH-15985', 'JH-16180', 'JJ-15445', 'JJ-15760', 'JK-15205', 'JK-15325', 'JK-15370', 'JK-15625', 'JK-15640', 'JK-15730', 'JK-16090', 'JK-16120', 'JL-15130', 'JL-15175', 'JL-15235', 'JL-15505', 'JL-15835', 'JL-15850', 'JM-15250', 'JM-15265', 'JM-15535', 'JM-15580', 'JM-15655', 'JM-15865', 'JM-16195', 'JO-15145', 'JO-15280', 'JO-15550', 'JP-15460', 'JP-15520', 'JP-16135', 'JR-15670', 'JR-16210', 'JS-15595', 'JS-15685', 'JS-15880', 'JS-15940', 'JS-16030', 'JW-15220', 'JW-15955', 'JW-16075', 'KA-16525', 'KB-16240', 'KB-16315', 'KB-16405', 'KB-16585', 'KB-16600', 'KC-16255', 'KC-16540', 'KC-16675', 'KD-16270', 'KD-16345', 'KD-16495', 'KD-16615', 'KE-16420', 'KF-16285', 'KH-16330', 'KH-16360', 'KH-16510', 'KH-16630', 'KH-16690', 'KL-16555', 'KL-16645', 'KM-16225', 'KM-16375', 'KM-16660', 'KM-16720', 'KN-16390', 'KN-16450', 'KN-16705', 'KS-16300', 'KT-16465', 'KT-16480', 'KW-16435', 'KW-16570', 'LA-16780', 'LB-16735', 'LB-16795', 'LC-16870', 'LC-16885', 'LC-16930', 'LC-16960', 'LC-17050', 'LC-17140', 'LD-17005', 'LE-16810', 'LF-17185', 'LH-16750', 'LH-16900', 'LH-17020', 'LH-17155', 'LL-16840', 'LM-17065', 'LO-17170', 'LP-17080', 'LP-17095', 'LR-16915', 'LR-17035', 'LS-16945', 'LS-16975', 'LS-17200', 'LS-17230', 'LS-17245', 'LT-16765', 'LT-17110', 'LW-16825', 'LW-16990', 'LW-17125', 'LW-17215', 'MA-17560', 'MA-17995', 'MB-17305', 'MB-18085', 'MC-17275', 'MC-17425', 'MC-17575', 'MC-17590', 'MC-17605', 'MC-17635', 'MC-17845', 'MC-18100', 'MC-18130', 'MD-17350', 'MD-17860', 'ME-17320', 'ME-17725', 'ME-18010', 'MF-17665', 'MF-18250', 'MG-17650', 'MG-17680', 'MG-17695', 'MG-17875', 'MG-17890', 'MG-18145', 'MH-17290', 'MH-17440', 'MH-17455', 'MH-17620', 'MH-17785', 'MH-18025', 'MH-18115', 'MJ-17740', 'MK-17905', 'MK-18160', 'ML-17395', 'ML-17410', 'ML-17755', 'ML-18040', 'ML-18265', 'MM-17260', 'MM-17920', 'MM-18055', 'MM-18280', 'MN-17935', 'MO-17500', 'MO-17800', 'MO-17950', 'MP-17470', 'MP-17965', 'MP-18175', 'MR-17545', 'MS-17365', 'MS-17530', 'MS-17710', 'MS-17770', 'MS-17830', 'MS-17980', 'MT-17815', 'MT-18070', 'MV-17485', 'MV-18190', 'MW-18220', 'MW-18235', 'MY-17380', 'MY-18295', 'MZ-17335', 'MZ-17515', 'NB-18580', 'NB-18655', 'NC-18340', 'NC-18415', 'NC-18535', 'NC-18625', 'ND-18370', 'ND-18460', 'NF-18385', 'NF-18475', 'NF-18595', 'NG-18355', 'NG-18430', 'NH-18610', 'NK-18490', 'NL-18310', 'NM-18445', 'NM-18520', 'NP-18325', 'NP-18670', 'NP-18685', 'NP-18700', 'NR-18550', 'NS-18505', 'NS-18640', 'NW-18400', 'NZ-18565', 'ON-18715', 'OT-18730', 'PA-19060', 'PB-18805', 'PB-19105', 'PB-19150', 'PB-19210', 'PC-18745', 'PC-19000', 'PF-19120', 'PF-19165', 'PF-19225', 'PG-18820', 'PG-18895', 'PJ-18835', 'PJ-19015', 'PK-18910', 'PK-19075', 'PL-18925', 'PM-18940', 'PM-19135', 'PN-18775', 'PO-18850', 'PO-18865', 'PO-19180', 'PO-19195', 'PP-18955', 'PR-18880', 'PS-18760', 'PS-18970', 'PS-19045', 'PT-19090', 'PV-18985', 'PW-19030', 'PW-19240', 'QJ-19255', 'RA-19285', 'RA-19885', 'RA-19915', 'RA-19945', 'RB-19330', 'RB-19360', 'RB-19435', 'RB-19465', 'RB-19570', 'RB-19645', 'RB-19705', 'RB-19795', 'RC-19825', 'RC-19960', 'RD-19480', 'RD-19585', 'RD-19660', 'RD-19720', 'RD-19810', 'RD-19900', 'RD-19930', 'RE-19450', 'RF-19345', 'RF-19735', 'RF-19840', 'RH-19495', 'RH-19510', 'RH-19555', 'RH-19600', 'RK-19300', 'RL-19615', 'RM-19375', 'RM-19675', 'RO-19780', 'RP-19270', 'RP-19390', 'RP-19855', 'RR-19315', 'RR-19525', 'RS-19420', 'RS-19765', 'RS-19870', 'RW-19540', 'RW-19630', 'RW-19690', 'SA-20830', 'SB-20170', 'SB-20185', 'SB-20290', 'SC-20020', 'SC-20050', 'SC-20095', 'SC-20230', 'SC-20260', 'SC-20305', 'SC-20380', 'SC-20440', 'SC-20575', 'SC-20680', 'SC-20695', 'SC-20725', 'SC-20770', 'SC-20800', 'SC-20845', 'SD-20485', 'SE-20110', 'SF-20065', 'SF-20200', 'SF-20965', 'SG-20080', 'SG-20470', 'SG-20605', 'SG-20890', 'SH-19975', 'SH-20395', 'SH-20635', 'SJ-20125', 'SJ-20215', 'SJ-20500', 'SK-19990', 'SL-20155', 'SM-20005', 'SM-20320', 'SM-20950', 'SN-20560', 'SN-20710', 'SO-20335', 'SP-20545', 'SP-20620', 'SP-20650', 'SP-20860', 'SP-20920', 'SR-20425', 'SR-20740', 'SS-20140', 'SS-20410', 'SS-20515', 'SS-20590', 'SS-20875', 'ST-20530', 'SU-20665', 'SV-20365', 'SV-20785', 'SV-20815', 'SV-20935', 'SW-20245', 'SW-20275', 'SW-20350', 'SW-20455', 'SW-20755', 'SZ-20035', 'TA-21385', 'TB-21055', 'TB-21175', 'TB-21190', 'TB-21250', 'TB-21280', 'TB-21355', 'TB-21400', 'TB-21520', 'TB-21595', 'TB-21625', 'TC-20980', 'TC-21295', 'TC-21475', 'TC-21535', 'TD-20995', 'TG-21310', 'TG-21640', 'TH-21100', 'TH-21115', 'TH-21235', 'TH-21550', 'TM-21010', 'TM-21490', 'TN-21040', 'TP-21130', 'TP-21415', 'TP-21565', 'TR-21325', 'TS-21085', 'TS-21160', 'TS-21205', 'TS-21340', 'TS-21370', 'TS-21430', 'TS-21505', 'TS-21610', 'TS-21655', 'TT-21070', 'TT-21220', 'TT-21265', 'TT-21460', 'TW-21025', 'TZ-21580', 'VB-21745', 'VD-21670', 'VF-21715', 'VG-21790', 'VG-21805', 'VM-21685', 'VM-21835', 'VP-21730', 'VP-21760', 'VS-21820', 'VT-21700', 'VW-21775', 'WB-21850', 'XP-21865', 'YC-21895', 'YS-21880', 'ZC-21910', 'ZD-21925']\n"
     ]
    }
   ],
   "source": [
    "address_fields = ['Country', 'City', 'State', 'Postal Code']\n",
    "grouped = eshop.groupby('Customer ID')[address_fields].nunique()\n",
    "\n",
    "# Customers with more than one address\n",
    "multiple_addresses = grouped[grouped > 1].any(axis=1)\n",
    "\n",
    "# Displaying customer IDs with multiple addresses\n",
    "print(multiple_addresses[multiple_addresses].index.tolist())\n"
   ]
  },
  {
   "cell_type": "markdown",
   "metadata": {},
   "source": [
    "1 order = 1 address!"
   ]
  },
  {
   "cell_type": "code",
   "execution_count": 17,
   "metadata": {},
   "outputs": [
    {
     "name": "stdout",
     "output_type": "stream",
     "text": [
      "[]\n"
     ]
    }
   ],
   "source": [
    "order_grouped = eshop.groupby('Order ID')[address_fields].nunique()\n",
    "\n",
    "# Customers with more than one address\n",
    "order_multiple_addresses = order_grouped[order_grouped > 1].any(axis=1)\n",
    "\n",
    "# Displaying customer IDs with multiple addresses\n",
    "print(order_multiple_addresses[order_multiple_addresses].index.tolist())"
   ]
  },
  {
   "cell_type": "markdown",
   "metadata": {},
   "source": [
    "1 order = 1 Ship Date!"
   ]
  },
  {
   "cell_type": "code",
   "execution_count": 20,
   "metadata": {},
   "outputs": [
    {
     "name": "stdout",
     "output_type": "stream",
     "text": [
      "[]\n"
     ]
    }
   ],
   "source": [
    "ship_grouped = eshop.groupby('Order ID')['Ship Date'].nunique()\n",
    "multiple_shipping_dates = ship_grouped[ship_grouped > 1]\n",
    "print(multiple_shipping_dates.index.tolist())"
   ]
  },
  {
   "cell_type": "markdown",
   "metadata": {},
   "source": [
    "1 order = 1 Ship Mode!"
   ]
  },
  {
   "cell_type": "code",
   "execution_count": 21,
   "metadata": {},
   "outputs": [
    {
     "name": "stdout",
     "output_type": "stream",
     "text": [
      "[]\n"
     ]
    }
   ],
   "source": [
    "mode_grouped = eshop.groupby('Order ID')['Ship Mode'].nunique()\n",
    "multiple_modes = mode_grouped[mode_grouped > 1]\n",
    "print(multiple_modes.index.tolist())"
   ]
  },
  {
   "cell_type": "code",
   "execution_count": 24,
   "metadata": {},
   "outputs": [],
   "source": [
    "import pandas as pd\n",
    "import os\n",
    "import sqlite3\n",
    "from sqlite3 import Error"
   ]
  },
  {
   "cell_type": "code",
   "execution_count": 25,
   "metadata": {},
   "outputs": [],
   "source": [
    "eshop.to_csv('Sample-Superstore2.csv', index=False)"
   ]
  },
  {
   "cell_type": "code",
   "execution_count": 26,
   "metadata": {},
   "outputs": [],
   "source": [
    "path = r'C:\\\\Asus WebStorage\\\\psabin@gmail.com\\\\MySyncFolder\\\\Data Science Course\\\\E-Commerce\\\\'"
   ]
  },
  {
   "cell_type": "code",
   "execution_count": 27,
   "metadata": {},
   "outputs": [],
   "source": [
    "eshop_db = sqlite3.connect('eshop_database.db')"
   ]
  },
  {
   "cell_type": "code",
   "execution_count": 28,
   "metadata": {},
   "outputs": [],
   "source": [
    "c = eshop_db.cursor()"
   ]
  },
  {
   "cell_type": "code",
   "execution_count": 29,
   "metadata": {},
   "outputs": [
    {
     "data": {
      "text/plain": [
       "<sqlite3.Cursor at 0x231683c2a40>"
      ]
     },
     "execution_count": 29,
     "metadata": {},
     "output_type": "execute_result"
    }
   ],
   "source": [
    "c.execute('''\n",
    "CREATE TABLE IF NOT EXISTS \"orders\" (\n",
    "\t\"order_id\"\tTEXT,\n",
    "\t\"order_date\"\tTEXT,\n",
    "\t\"ship_date\"\tTEXT,\n",
    "\t\"ship_mode\"\tTEXT,\n",
    "\t\"customer_id\"\tTEXT,\n",
    "\t\"address_id\"\tTEXT,\n",
    "\tPRIMARY KEY(\"order_id\")\n",
    ");\n",
    "''')"
   ]
  },
  {
   "cell_type": "code",
   "execution_count": 31,
   "metadata": {},
   "outputs": [
    {
     "data": {
      "text/plain": [
       "<sqlite3.Cursor at 0x231683c2a40>"
      ]
     },
     "execution_count": 31,
     "metadata": {},
     "output_type": "execute_result"
    }
   ],
   "source": [
    "c.execute('''\n",
    "DROP TABLE IF EXISTS \"order_details\";\n",
    "''')"
   ]
  },
  {
   "cell_type": "code",
   "execution_count": 32,
   "metadata": {},
   "outputs": [
    {
     "data": {
      "text/plain": [
       "<sqlite3.Cursor at 0x231683c2a40>"
      ]
     },
     "execution_count": 32,
     "metadata": {},
     "output_type": "execute_result"
    }
   ],
   "source": [
    "c.execute('''\n",
    "CREATE TABLE IF NOT EXISTS \"order_details\" (\n",
    "\t\"order_id\"\tTEXT,\n",
    "\t\"product_id\"\tTEXT,\n",
    "\t\"quantity\"\tINTEGER,\n",
    "\t\"discount\"\tREAL,\n",
    "\t\"sales\"\tREAL,\n",
    "\t\"profit\"\tREAL,\n",
    "\tPRIMARY KEY(\"order_id\",\"product_id\")\n",
    ");\n",
    "''')"
   ]
  },
  {
   "cell_type": "code",
   "execution_count": 33,
   "metadata": {},
   "outputs": [
    {
     "data": {
      "text/plain": [
       "<sqlite3.Cursor at 0x231683c2a40>"
      ]
     },
     "execution_count": 33,
     "metadata": {},
     "output_type": "execute_result"
    }
   ],
   "source": [
    "c.execute('''\n",
    "CREATE TABLE IF NOT EXISTS \"products\" (\n",
    "\t\"product_id\"\tTEXT,\n",
    "\t\"product_name\"\tTEXT,\n",
    "\t\"category\"\tTEXT,\n",
    "\t\"sub_category\"\tTEXT,\n",
    "\tPRIMARY KEY(\"product_id\")\n",
    ");\n",
    "''')"
   ]
  },
  {
   "cell_type": "markdown",
   "metadata": {},
   "source": [
    "Create next: addresses, customers"
   ]
  }
 ],
 "metadata": {
  "kernelspec": {
   "display_name": "CAB",
   "language": "python",
   "name": "python3"
  },
  "language_info": {
   "codemirror_mode": {
    "name": "ipython",
    "version": 3
   },
   "file_extension": ".py",
   "mimetype": "text/x-python",
   "name": "python",
   "nbconvert_exporter": "python",
   "pygments_lexer": "ipython3",
   "version": "3.10.12"
  }
 },
 "nbformat": 4,
 "nbformat_minor": 2
}
