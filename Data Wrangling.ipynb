{
 "cells": [
  {
   "cell_type": "code",
   "execution_count": 1,
   "metadata": {},
   "outputs": [],
   "source": [
    "import pandas as pd"
   ]
  },
  {
   "cell_type": "markdown",
   "metadata": {},
   "source": [
    "Import CSV"
   ]
  },
  {
   "cell_type": "code",
   "execution_count": 5,
   "metadata": {},
   "outputs": [],
   "source": [
    "eshop = pd.read_csv('Sample-Superstore.csv', encoding='latin1')"
   ]
  },
  {
   "cell_type": "code",
   "execution_count": 13,
   "metadata": {},
   "outputs": [
    {
     "data": {
      "text/html": [
       "<div>\n",
       "<style scoped>\n",
       "    .dataframe tbody tr th:only-of-type {\n",
       "        vertical-align: middle;\n",
       "    }\n",
       "\n",
       "    .dataframe tbody tr th {\n",
       "        vertical-align: top;\n",
       "    }\n",
       "\n",
       "    .dataframe thead th {\n",
       "        text-align: right;\n",
       "    }\n",
       "</style>\n",
       "<table border=\"1\" class=\"dataframe\">\n",
       "  <thead>\n",
       "    <tr style=\"text-align: right;\">\n",
       "      <th></th>\n",
       "      <th>Row ID</th>\n",
       "      <th>Order ID</th>\n",
       "      <th>Order Date</th>\n",
       "      <th>Ship Date</th>\n",
       "      <th>Ship Mode</th>\n",
       "      <th>Customer ID</th>\n",
       "      <th>Customer Name</th>\n",
       "      <th>Segment</th>\n",
       "      <th>Country</th>\n",
       "      <th>City</th>\n",
       "      <th>...</th>\n",
       "      <th>Postal Code</th>\n",
       "      <th>Region</th>\n",
       "      <th>Product ID</th>\n",
       "      <th>Category</th>\n",
       "      <th>Sub-Category</th>\n",
       "      <th>Product Name</th>\n",
       "      <th>Sales</th>\n",
       "      <th>Quantity</th>\n",
       "      <th>Discount</th>\n",
       "      <th>Profit</th>\n",
       "    </tr>\n",
       "  </thead>\n",
       "  <tbody>\n",
       "    <tr>\n",
       "      <th>0</th>\n",
       "      <td>1</td>\n",
       "      <td>CA-2016-152156</td>\n",
       "      <td>11/8/2016</td>\n",
       "      <td>2016-11-11</td>\n",
       "      <td>Second Class</td>\n",
       "      <td>CG-12520</td>\n",
       "      <td>Claire Gute</td>\n",
       "      <td>Consumer</td>\n",
       "      <td>United States</td>\n",
       "      <td>Henderson</td>\n",
       "      <td>...</td>\n",
       "      <td>42420</td>\n",
       "      <td>South</td>\n",
       "      <td>FUR-BO-10001798</td>\n",
       "      <td>Furniture</td>\n",
       "      <td>Bookcases</td>\n",
       "      <td>Bush Somerset Collection Bookcase</td>\n",
       "      <td>261.9600</td>\n",
       "      <td>2</td>\n",
       "      <td>0.00</td>\n",
       "      <td>41.9136</td>\n",
       "    </tr>\n",
       "    <tr>\n",
       "      <th>1</th>\n",
       "      <td>2</td>\n",
       "      <td>CA-2016-152156</td>\n",
       "      <td>11/8/2016</td>\n",
       "      <td>2016-11-11</td>\n",
       "      <td>Second Class</td>\n",
       "      <td>CG-12520</td>\n",
       "      <td>Claire Gute</td>\n",
       "      <td>Consumer</td>\n",
       "      <td>United States</td>\n",
       "      <td>Henderson</td>\n",
       "      <td>...</td>\n",
       "      <td>42420</td>\n",
       "      <td>South</td>\n",
       "      <td>FUR-CH-10000454</td>\n",
       "      <td>Furniture</td>\n",
       "      <td>Chairs</td>\n",
       "      <td>Hon Deluxe Fabric Upholstered Stacking Chairs,...</td>\n",
       "      <td>731.9400</td>\n",
       "      <td>3</td>\n",
       "      <td>0.00</td>\n",
       "      <td>219.5820</td>\n",
       "    </tr>\n",
       "    <tr>\n",
       "      <th>2</th>\n",
       "      <td>3</td>\n",
       "      <td>CA-2016-138688</td>\n",
       "      <td>6/12/2016</td>\n",
       "      <td>2016-06-16</td>\n",
       "      <td>Second Class</td>\n",
       "      <td>DV-13045</td>\n",
       "      <td>Darrin Van Huff</td>\n",
       "      <td>Corporate</td>\n",
       "      <td>United States</td>\n",
       "      <td>Los Angeles</td>\n",
       "      <td>...</td>\n",
       "      <td>90036</td>\n",
       "      <td>West</td>\n",
       "      <td>OFF-LA-10000240</td>\n",
       "      <td>Office Supplies</td>\n",
       "      <td>Labels</td>\n",
       "      <td>Self-Adhesive Address Labels for Typewriters b...</td>\n",
       "      <td>14.6200</td>\n",
       "      <td>2</td>\n",
       "      <td>0.00</td>\n",
       "      <td>6.8714</td>\n",
       "    </tr>\n",
       "    <tr>\n",
       "      <th>3</th>\n",
       "      <td>4</td>\n",
       "      <td>US-2015-108966</td>\n",
       "      <td>10/11/2015</td>\n",
       "      <td>2015-10-18</td>\n",
       "      <td>Standard Class</td>\n",
       "      <td>SO-20335</td>\n",
       "      <td>Sean O'Donnell</td>\n",
       "      <td>Consumer</td>\n",
       "      <td>United States</td>\n",
       "      <td>Fort Lauderdale</td>\n",
       "      <td>...</td>\n",
       "      <td>33311</td>\n",
       "      <td>South</td>\n",
       "      <td>FUR-TA-10000577</td>\n",
       "      <td>Furniture</td>\n",
       "      <td>Tables</td>\n",
       "      <td>Bretford CR4500 Series Slim Rectangular Table</td>\n",
       "      <td>957.5775</td>\n",
       "      <td>5</td>\n",
       "      <td>0.45</td>\n",
       "      <td>-383.0310</td>\n",
       "    </tr>\n",
       "    <tr>\n",
       "      <th>4</th>\n",
       "      <td>5</td>\n",
       "      <td>US-2015-108966</td>\n",
       "      <td>10/11/2015</td>\n",
       "      <td>2015-10-18</td>\n",
       "      <td>Standard Class</td>\n",
       "      <td>SO-20335</td>\n",
       "      <td>Sean O'Donnell</td>\n",
       "      <td>Consumer</td>\n",
       "      <td>United States</td>\n",
       "      <td>Fort Lauderdale</td>\n",
       "      <td>...</td>\n",
       "      <td>33311</td>\n",
       "      <td>South</td>\n",
       "      <td>OFF-ST-10000760</td>\n",
       "      <td>Office Supplies</td>\n",
       "      <td>Storage</td>\n",
       "      <td>Eldon Fold 'N Roll Cart System</td>\n",
       "      <td>22.3680</td>\n",
       "      <td>2</td>\n",
       "      <td>0.20</td>\n",
       "      <td>2.5164</td>\n",
       "    </tr>\n",
       "  </tbody>\n",
       "</table>\n",
       "<p>5 rows × 21 columns</p>\n",
       "</div>"
      ],
      "text/plain": [
       "   Row ID        Order ID  Order Date   Ship Date       Ship Mode Customer ID  \\\n",
       "0       1  CA-2016-152156   11/8/2016  2016-11-11    Second Class    CG-12520   \n",
       "1       2  CA-2016-152156   11/8/2016  2016-11-11    Second Class    CG-12520   \n",
       "2       3  CA-2016-138688   6/12/2016  2016-06-16    Second Class    DV-13045   \n",
       "3       4  US-2015-108966  10/11/2015  2015-10-18  Standard Class    SO-20335   \n",
       "4       5  US-2015-108966  10/11/2015  2015-10-18  Standard Class    SO-20335   \n",
       "\n",
       "     Customer Name    Segment        Country             City  ...  \\\n",
       "0      Claire Gute   Consumer  United States        Henderson  ...   \n",
       "1      Claire Gute   Consumer  United States        Henderson  ...   \n",
       "2  Darrin Van Huff  Corporate  United States      Los Angeles  ...   \n",
       "3   Sean O'Donnell   Consumer  United States  Fort Lauderdale  ...   \n",
       "4   Sean O'Donnell   Consumer  United States  Fort Lauderdale  ...   \n",
       "\n",
       "  Postal Code  Region       Product ID         Category Sub-Category  \\\n",
       "0       42420   South  FUR-BO-10001798        Furniture    Bookcases   \n",
       "1       42420   South  FUR-CH-10000454        Furniture       Chairs   \n",
       "2       90036    West  OFF-LA-10000240  Office Supplies       Labels   \n",
       "3       33311   South  FUR-TA-10000577        Furniture       Tables   \n",
       "4       33311   South  OFF-ST-10000760  Office Supplies      Storage   \n",
       "\n",
       "                                        Product Name     Sales  Quantity  \\\n",
       "0                  Bush Somerset Collection Bookcase  261.9600         2   \n",
       "1  Hon Deluxe Fabric Upholstered Stacking Chairs,...  731.9400         3   \n",
       "2  Self-Adhesive Address Labels for Typewriters b...   14.6200         2   \n",
       "3      Bretford CR4500 Series Slim Rectangular Table  957.5775         5   \n",
       "4                     Eldon Fold 'N Roll Cart System   22.3680         2   \n",
       "\n",
       "   Discount    Profit  \n",
       "0      0.00   41.9136  \n",
       "1      0.00  219.5820  \n",
       "2      0.00    6.8714  \n",
       "3      0.45 -383.0310  \n",
       "4      0.20    2.5164  \n",
       "\n",
       "[5 rows x 21 columns]"
      ]
     },
     "metadata": {},
     "output_type": "display_data"
    }
   ],
   "source": [
    "display(eshop.head())"
   ]
  },
  {
   "cell_type": "code",
   "execution_count": 41,
   "metadata": {},
   "outputs": [
    {
     "data": {
      "text/html": [
       "<div>\n",
       "<style scoped>\n",
       "    .dataframe tbody tr th:only-of-type {\n",
       "        vertical-align: middle;\n",
       "    }\n",
       "\n",
       "    .dataframe tbody tr th {\n",
       "        vertical-align: top;\n",
       "    }\n",
       "\n",
       "    .dataframe thead th {\n",
       "        text-align: right;\n",
       "    }\n",
       "</style>\n",
       "<table border=\"1\" class=\"dataframe\">\n",
       "  <thead>\n",
       "    <tr style=\"text-align: right;\">\n",
       "      <th></th>\n",
       "      <th>row_id</th>\n",
       "      <th>order_id</th>\n",
       "      <th>order_date</th>\n",
       "      <th>ship_date</th>\n",
       "      <th>ship_mode</th>\n",
       "      <th>customer_id</th>\n",
       "      <th>customer_name</th>\n",
       "      <th>segment</th>\n",
       "      <th>country</th>\n",
       "      <th>city</th>\n",
       "      <th>...</th>\n",
       "      <th>postal_code</th>\n",
       "      <th>region</th>\n",
       "      <th>product_id</th>\n",
       "      <th>category</th>\n",
       "      <th>sub-category</th>\n",
       "      <th>product_name</th>\n",
       "      <th>sales</th>\n",
       "      <th>quantity</th>\n",
       "      <th>discount</th>\n",
       "      <th>profit</th>\n",
       "    </tr>\n",
       "  </thead>\n",
       "  <tbody>\n",
       "    <tr>\n",
       "      <th>0</th>\n",
       "      <td>1</td>\n",
       "      <td>CA-2016-152156</td>\n",
       "      <td>2016-11-11</td>\n",
       "      <td>2016-11-11</td>\n",
       "      <td>Second Class</td>\n",
       "      <td>CG-12520</td>\n",
       "      <td>Claire Gute</td>\n",
       "      <td>Consumer</td>\n",
       "      <td>United States</td>\n",
       "      <td>Henderson</td>\n",
       "      <td>...</td>\n",
       "      <td>42420</td>\n",
       "      <td>South</td>\n",
       "      <td>FUR-BO-10001798</td>\n",
       "      <td>Furniture</td>\n",
       "      <td>Bookcases</td>\n",
       "      <td>Bush Somerset Collection Bookcase</td>\n",
       "      <td>261.9600</td>\n",
       "      <td>2</td>\n",
       "      <td>0.00</td>\n",
       "      <td>41.9136</td>\n",
       "    </tr>\n",
       "    <tr>\n",
       "      <th>1</th>\n",
       "      <td>2</td>\n",
       "      <td>CA-2016-152156</td>\n",
       "      <td>2016-11-11</td>\n",
       "      <td>2016-11-11</td>\n",
       "      <td>Second Class</td>\n",
       "      <td>CG-12520</td>\n",
       "      <td>Claire Gute</td>\n",
       "      <td>Consumer</td>\n",
       "      <td>United States</td>\n",
       "      <td>Henderson</td>\n",
       "      <td>...</td>\n",
       "      <td>42420</td>\n",
       "      <td>South</td>\n",
       "      <td>FUR-CH-10000454</td>\n",
       "      <td>Furniture</td>\n",
       "      <td>Chairs</td>\n",
       "      <td>Hon Deluxe Fabric Upholstered Stacking Chairs,...</td>\n",
       "      <td>731.9400</td>\n",
       "      <td>3</td>\n",
       "      <td>0.00</td>\n",
       "      <td>219.5820</td>\n",
       "    </tr>\n",
       "    <tr>\n",
       "      <th>2</th>\n",
       "      <td>3</td>\n",
       "      <td>CA-2016-138688</td>\n",
       "      <td>2016-06-16</td>\n",
       "      <td>2016-06-16</td>\n",
       "      <td>Second Class</td>\n",
       "      <td>DV-13045</td>\n",
       "      <td>Darrin Van Huff</td>\n",
       "      <td>Corporate</td>\n",
       "      <td>United States</td>\n",
       "      <td>Los Angeles</td>\n",
       "      <td>...</td>\n",
       "      <td>90036</td>\n",
       "      <td>West</td>\n",
       "      <td>OFF-LA-10000240</td>\n",
       "      <td>Office Supplies</td>\n",
       "      <td>Labels</td>\n",
       "      <td>Self-Adhesive Address Labels for Typewriters b...</td>\n",
       "      <td>14.6200</td>\n",
       "      <td>2</td>\n",
       "      <td>0.00</td>\n",
       "      <td>6.8714</td>\n",
       "    </tr>\n",
       "    <tr>\n",
       "      <th>3</th>\n",
       "      <td>4</td>\n",
       "      <td>US-2015-108966</td>\n",
       "      <td>2015-10-18</td>\n",
       "      <td>2015-10-18</td>\n",
       "      <td>Standard Class</td>\n",
       "      <td>SO-20335</td>\n",
       "      <td>Sean O'Donnell</td>\n",
       "      <td>Consumer</td>\n",
       "      <td>United States</td>\n",
       "      <td>Fort Lauderdale</td>\n",
       "      <td>...</td>\n",
       "      <td>33311</td>\n",
       "      <td>South</td>\n",
       "      <td>FUR-TA-10000577</td>\n",
       "      <td>Furniture</td>\n",
       "      <td>Tables</td>\n",
       "      <td>Bretford CR4500 Series Slim Rectangular Table</td>\n",
       "      <td>957.5775</td>\n",
       "      <td>5</td>\n",
       "      <td>0.45</td>\n",
       "      <td>-383.0310</td>\n",
       "    </tr>\n",
       "    <tr>\n",
       "      <th>4</th>\n",
       "      <td>5</td>\n",
       "      <td>US-2015-108966</td>\n",
       "      <td>2015-10-18</td>\n",
       "      <td>2015-10-18</td>\n",
       "      <td>Standard Class</td>\n",
       "      <td>SO-20335</td>\n",
       "      <td>Sean O'Donnell</td>\n",
       "      <td>Consumer</td>\n",
       "      <td>United States</td>\n",
       "      <td>Fort Lauderdale</td>\n",
       "      <td>...</td>\n",
       "      <td>33311</td>\n",
       "      <td>South</td>\n",
       "      <td>OFF-ST-10000760</td>\n",
       "      <td>Office Supplies</td>\n",
       "      <td>Storage</td>\n",
       "      <td>Eldon Fold 'N Roll Cart System</td>\n",
       "      <td>22.3680</td>\n",
       "      <td>2</td>\n",
       "      <td>0.20</td>\n",
       "      <td>2.5164</td>\n",
       "    </tr>\n",
       "  </tbody>\n",
       "</table>\n",
       "<p>5 rows × 21 columns</p>\n",
       "</div>"
      ],
      "text/plain": [
       "   row_id        order_id  order_date   ship_date       ship_mode customer_id  \\\n",
       "0       1  CA-2016-152156  2016-11-11  2016-11-11    Second Class    CG-12520   \n",
       "1       2  CA-2016-152156  2016-11-11  2016-11-11    Second Class    CG-12520   \n",
       "2       3  CA-2016-138688  2016-06-16  2016-06-16    Second Class    DV-13045   \n",
       "3       4  US-2015-108966  2015-10-18  2015-10-18  Standard Class    SO-20335   \n",
       "4       5  US-2015-108966  2015-10-18  2015-10-18  Standard Class    SO-20335   \n",
       "\n",
       "     customer_name    segment        country             city  ...  \\\n",
       "0      Claire Gute   Consumer  United States        Henderson  ...   \n",
       "1      Claire Gute   Consumer  United States        Henderson  ...   \n",
       "2  Darrin Van Huff  Corporate  United States      Los Angeles  ...   \n",
       "3   Sean O'Donnell   Consumer  United States  Fort Lauderdale  ...   \n",
       "4   Sean O'Donnell   Consumer  United States  Fort Lauderdale  ...   \n",
       "\n",
       "  postal_code  region       product_id         category sub-category  \\\n",
       "0       42420   South  FUR-BO-10001798        Furniture    Bookcases   \n",
       "1       42420   South  FUR-CH-10000454        Furniture       Chairs   \n",
       "2       90036    West  OFF-LA-10000240  Office Supplies       Labels   \n",
       "3       33311   South  FUR-TA-10000577        Furniture       Tables   \n",
       "4       33311   South  OFF-ST-10000760  Office Supplies      Storage   \n",
       "\n",
       "                                        product_name     sales  quantity  \\\n",
       "0                  Bush Somerset Collection Bookcase  261.9600         2   \n",
       "1  Hon Deluxe Fabric Upholstered Stacking Chairs,...  731.9400         3   \n",
       "2  Self-Adhesive Address Labels for Typewriters b...   14.6200         2   \n",
       "3      Bretford CR4500 Series Slim Rectangular Table  957.5775         5   \n",
       "4                     Eldon Fold 'N Roll Cart System   22.3680         2   \n",
       "\n",
       "   discount    profit  \n",
       "0      0.00   41.9136  \n",
       "1      0.00  219.5820  \n",
       "2      0.00    6.8714  \n",
       "3      0.45 -383.0310  \n",
       "4      0.20    2.5164  \n",
       "\n",
       "[5 rows x 21 columns]"
      ]
     },
     "metadata": {},
     "output_type": "display_data"
    }
   ],
   "source": [
    "eshop.columns = [col.lower().replace(' ', '_') for col in eshop.columns]\n",
    "\n"
   ]
  },
  {
   "cell_type": "code",
   "execution_count": 42,
   "metadata": {},
   "outputs": [
    {
     "data": {
      "text/html": [
       "<div>\n",
       "<style scoped>\n",
       "    .dataframe tbody tr th:only-of-type {\n",
       "        vertical-align: middle;\n",
       "    }\n",
       "\n",
       "    .dataframe tbody tr th {\n",
       "        vertical-align: top;\n",
       "    }\n",
       "\n",
       "    .dataframe thead th {\n",
       "        text-align: right;\n",
       "    }\n",
       "</style>\n",
       "<table border=\"1\" class=\"dataframe\">\n",
       "  <thead>\n",
       "    <tr style=\"text-align: right;\">\n",
       "      <th></th>\n",
       "      <th>row_id</th>\n",
       "      <th>order_id</th>\n",
       "      <th>order_date</th>\n",
       "      <th>ship_date</th>\n",
       "      <th>ship_mode</th>\n",
       "      <th>customer_id</th>\n",
       "      <th>customer_name</th>\n",
       "      <th>segment</th>\n",
       "      <th>country</th>\n",
       "      <th>city</th>\n",
       "      <th>...</th>\n",
       "      <th>postal_code</th>\n",
       "      <th>region</th>\n",
       "      <th>product_id</th>\n",
       "      <th>category</th>\n",
       "      <th>sub_category</th>\n",
       "      <th>product_name</th>\n",
       "      <th>sales</th>\n",
       "      <th>quantity</th>\n",
       "      <th>discount</th>\n",
       "      <th>profit</th>\n",
       "    </tr>\n",
       "  </thead>\n",
       "  <tbody>\n",
       "    <tr>\n",
       "      <th>0</th>\n",
       "      <td>1</td>\n",
       "      <td>CA-2016-152156</td>\n",
       "      <td>2016-11-11</td>\n",
       "      <td>2016-11-11</td>\n",
       "      <td>Second Class</td>\n",
       "      <td>CG-12520</td>\n",
       "      <td>Claire Gute</td>\n",
       "      <td>Consumer</td>\n",
       "      <td>United States</td>\n",
       "      <td>Henderson</td>\n",
       "      <td>...</td>\n",
       "      <td>42420</td>\n",
       "      <td>South</td>\n",
       "      <td>FUR-BO-10001798</td>\n",
       "      <td>Furniture</td>\n",
       "      <td>Bookcases</td>\n",
       "      <td>Bush Somerset Collection Bookcase</td>\n",
       "      <td>261.9600</td>\n",
       "      <td>2</td>\n",
       "      <td>0.00</td>\n",
       "      <td>41.9136</td>\n",
       "    </tr>\n",
       "    <tr>\n",
       "      <th>1</th>\n",
       "      <td>2</td>\n",
       "      <td>CA-2016-152156</td>\n",
       "      <td>2016-11-11</td>\n",
       "      <td>2016-11-11</td>\n",
       "      <td>Second Class</td>\n",
       "      <td>CG-12520</td>\n",
       "      <td>Claire Gute</td>\n",
       "      <td>Consumer</td>\n",
       "      <td>United States</td>\n",
       "      <td>Henderson</td>\n",
       "      <td>...</td>\n",
       "      <td>42420</td>\n",
       "      <td>South</td>\n",
       "      <td>FUR-CH-10000454</td>\n",
       "      <td>Furniture</td>\n",
       "      <td>Chairs</td>\n",
       "      <td>Hon Deluxe Fabric Upholstered Stacking Chairs,...</td>\n",
       "      <td>731.9400</td>\n",
       "      <td>3</td>\n",
       "      <td>0.00</td>\n",
       "      <td>219.5820</td>\n",
       "    </tr>\n",
       "    <tr>\n",
       "      <th>2</th>\n",
       "      <td>3</td>\n",
       "      <td>CA-2016-138688</td>\n",
       "      <td>2016-06-16</td>\n",
       "      <td>2016-06-16</td>\n",
       "      <td>Second Class</td>\n",
       "      <td>DV-13045</td>\n",
       "      <td>Darrin Van Huff</td>\n",
       "      <td>Corporate</td>\n",
       "      <td>United States</td>\n",
       "      <td>Los Angeles</td>\n",
       "      <td>...</td>\n",
       "      <td>90036</td>\n",
       "      <td>West</td>\n",
       "      <td>OFF-LA-10000240</td>\n",
       "      <td>Office Supplies</td>\n",
       "      <td>Labels</td>\n",
       "      <td>Self-Adhesive Address Labels for Typewriters b...</td>\n",
       "      <td>14.6200</td>\n",
       "      <td>2</td>\n",
       "      <td>0.00</td>\n",
       "      <td>6.8714</td>\n",
       "    </tr>\n",
       "    <tr>\n",
       "      <th>3</th>\n",
       "      <td>4</td>\n",
       "      <td>US-2015-108966</td>\n",
       "      <td>2015-10-18</td>\n",
       "      <td>2015-10-18</td>\n",
       "      <td>Standard Class</td>\n",
       "      <td>SO-20335</td>\n",
       "      <td>Sean O'Donnell</td>\n",
       "      <td>Consumer</td>\n",
       "      <td>United States</td>\n",
       "      <td>Fort Lauderdale</td>\n",
       "      <td>...</td>\n",
       "      <td>33311</td>\n",
       "      <td>South</td>\n",
       "      <td>FUR-TA-10000577</td>\n",
       "      <td>Furniture</td>\n",
       "      <td>Tables</td>\n",
       "      <td>Bretford CR4500 Series Slim Rectangular Table</td>\n",
       "      <td>957.5775</td>\n",
       "      <td>5</td>\n",
       "      <td>0.45</td>\n",
       "      <td>-383.0310</td>\n",
       "    </tr>\n",
       "    <tr>\n",
       "      <th>4</th>\n",
       "      <td>5</td>\n",
       "      <td>US-2015-108966</td>\n",
       "      <td>2015-10-18</td>\n",
       "      <td>2015-10-18</td>\n",
       "      <td>Standard Class</td>\n",
       "      <td>SO-20335</td>\n",
       "      <td>Sean O'Donnell</td>\n",
       "      <td>Consumer</td>\n",
       "      <td>United States</td>\n",
       "      <td>Fort Lauderdale</td>\n",
       "      <td>...</td>\n",
       "      <td>33311</td>\n",
       "      <td>South</td>\n",
       "      <td>OFF-ST-10000760</td>\n",
       "      <td>Office Supplies</td>\n",
       "      <td>Storage</td>\n",
       "      <td>Eldon Fold 'N Roll Cart System</td>\n",
       "      <td>22.3680</td>\n",
       "      <td>2</td>\n",
       "      <td>0.20</td>\n",
       "      <td>2.5164</td>\n",
       "    </tr>\n",
       "  </tbody>\n",
       "</table>\n",
       "<p>5 rows × 21 columns</p>\n",
       "</div>"
      ],
      "text/plain": [
       "   row_id        order_id  order_date   ship_date       ship_mode customer_id  \\\n",
       "0       1  CA-2016-152156  2016-11-11  2016-11-11    Second Class    CG-12520   \n",
       "1       2  CA-2016-152156  2016-11-11  2016-11-11    Second Class    CG-12520   \n",
       "2       3  CA-2016-138688  2016-06-16  2016-06-16    Second Class    DV-13045   \n",
       "3       4  US-2015-108966  2015-10-18  2015-10-18  Standard Class    SO-20335   \n",
       "4       5  US-2015-108966  2015-10-18  2015-10-18  Standard Class    SO-20335   \n",
       "\n",
       "     customer_name    segment        country             city  ...  \\\n",
       "0      Claire Gute   Consumer  United States        Henderson  ...   \n",
       "1      Claire Gute   Consumer  United States        Henderson  ...   \n",
       "2  Darrin Van Huff  Corporate  United States      Los Angeles  ...   \n",
       "3   Sean O'Donnell   Consumer  United States  Fort Lauderdale  ...   \n",
       "4   Sean O'Donnell   Consumer  United States  Fort Lauderdale  ...   \n",
       "\n",
       "  postal_code  region       product_id         category sub_category  \\\n",
       "0       42420   South  FUR-BO-10001798        Furniture    Bookcases   \n",
       "1       42420   South  FUR-CH-10000454        Furniture       Chairs   \n",
       "2       90036    West  OFF-LA-10000240  Office Supplies       Labels   \n",
       "3       33311   South  FUR-TA-10000577        Furniture       Tables   \n",
       "4       33311   South  OFF-ST-10000760  Office Supplies      Storage   \n",
       "\n",
       "                                        product_name     sales  quantity  \\\n",
       "0                  Bush Somerset Collection Bookcase  261.9600         2   \n",
       "1  Hon Deluxe Fabric Upholstered Stacking Chairs,...  731.9400         3   \n",
       "2  Self-Adhesive Address Labels for Typewriters b...   14.6200         2   \n",
       "3      Bretford CR4500 Series Slim Rectangular Table  957.5775         5   \n",
       "4                     Eldon Fold 'N Roll Cart System   22.3680         2   \n",
       "\n",
       "   discount    profit  \n",
       "0      0.00   41.9136  \n",
       "1      0.00  219.5820  \n",
       "2      0.00    6.8714  \n",
       "3      0.45 -383.0310  \n",
       "4      0.20    2.5164  \n",
       "\n",
       "[5 rows x 21 columns]"
      ]
     },
     "metadata": {},
     "output_type": "display_data"
    }
   ],
   "source": [
    "eshop.rename({'sub-category': 'sub_category'}, axis='columns', inplace=True)\n"
   ]
  },
  {
   "cell_type": "code",
   "execution_count": 47,
   "metadata": {},
   "outputs": [],
   "source": [
    "eshop[['first_name', 'surname']] = eshop['customer_name'].str.split(' ', n=1, expand=True)\n",
    "\n"
   ]
  },
  {
   "cell_type": "code",
   "execution_count": 48,
   "metadata": {},
   "outputs": [
    {
     "data": {
      "text/html": [
       "<div>\n",
       "<style scoped>\n",
       "    .dataframe tbody tr th:only-of-type {\n",
       "        vertical-align: middle;\n",
       "    }\n",
       "\n",
       "    .dataframe tbody tr th {\n",
       "        vertical-align: top;\n",
       "    }\n",
       "\n",
       "    .dataframe thead th {\n",
       "        text-align: right;\n",
       "    }\n",
       "</style>\n",
       "<table border=\"1\" class=\"dataframe\">\n",
       "  <thead>\n",
       "    <tr style=\"text-align: right;\">\n",
       "      <th></th>\n",
       "      <th>row_id</th>\n",
       "      <th>order_id</th>\n",
       "      <th>order_date</th>\n",
       "      <th>ship_date</th>\n",
       "      <th>ship_mode</th>\n",
       "      <th>customer_id</th>\n",
       "      <th>customer_name</th>\n",
       "      <th>segment</th>\n",
       "      <th>country</th>\n",
       "      <th>city</th>\n",
       "      <th>...</th>\n",
       "      <th>product_id</th>\n",
       "      <th>category</th>\n",
       "      <th>sub_category</th>\n",
       "      <th>product_name</th>\n",
       "      <th>sales</th>\n",
       "      <th>quantity</th>\n",
       "      <th>discount</th>\n",
       "      <th>profit</th>\n",
       "      <th>first_name</th>\n",
       "      <th>surname</th>\n",
       "    </tr>\n",
       "  </thead>\n",
       "  <tbody>\n",
       "    <tr>\n",
       "      <th>0</th>\n",
       "      <td>1</td>\n",
       "      <td>CA-2016-152156</td>\n",
       "      <td>2016-11-11</td>\n",
       "      <td>2016-11-11</td>\n",
       "      <td>Second Class</td>\n",
       "      <td>CG-12520</td>\n",
       "      <td>Claire Gute</td>\n",
       "      <td>Consumer</td>\n",
       "      <td>United States</td>\n",
       "      <td>Henderson</td>\n",
       "      <td>...</td>\n",
       "      <td>FUR-BO-10001798</td>\n",
       "      <td>Furniture</td>\n",
       "      <td>Bookcases</td>\n",
       "      <td>Bush Somerset Collection Bookcase</td>\n",
       "      <td>261.9600</td>\n",
       "      <td>2</td>\n",
       "      <td>0.00</td>\n",
       "      <td>41.9136</td>\n",
       "      <td>Claire</td>\n",
       "      <td>Gute</td>\n",
       "    </tr>\n",
       "    <tr>\n",
       "      <th>1</th>\n",
       "      <td>2</td>\n",
       "      <td>CA-2016-152156</td>\n",
       "      <td>2016-11-11</td>\n",
       "      <td>2016-11-11</td>\n",
       "      <td>Second Class</td>\n",
       "      <td>CG-12520</td>\n",
       "      <td>Claire Gute</td>\n",
       "      <td>Consumer</td>\n",
       "      <td>United States</td>\n",
       "      <td>Henderson</td>\n",
       "      <td>...</td>\n",
       "      <td>FUR-CH-10000454</td>\n",
       "      <td>Furniture</td>\n",
       "      <td>Chairs</td>\n",
       "      <td>Hon Deluxe Fabric Upholstered Stacking Chairs,...</td>\n",
       "      <td>731.9400</td>\n",
       "      <td>3</td>\n",
       "      <td>0.00</td>\n",
       "      <td>219.5820</td>\n",
       "      <td>Claire</td>\n",
       "      <td>Gute</td>\n",
       "    </tr>\n",
       "    <tr>\n",
       "      <th>2</th>\n",
       "      <td>3</td>\n",
       "      <td>CA-2016-138688</td>\n",
       "      <td>2016-06-16</td>\n",
       "      <td>2016-06-16</td>\n",
       "      <td>Second Class</td>\n",
       "      <td>DV-13045</td>\n",
       "      <td>Darrin Van Huff</td>\n",
       "      <td>Corporate</td>\n",
       "      <td>United States</td>\n",
       "      <td>Los Angeles</td>\n",
       "      <td>...</td>\n",
       "      <td>OFF-LA-10000240</td>\n",
       "      <td>Office Supplies</td>\n",
       "      <td>Labels</td>\n",
       "      <td>Self-Adhesive Address Labels for Typewriters b...</td>\n",
       "      <td>14.6200</td>\n",
       "      <td>2</td>\n",
       "      <td>0.00</td>\n",
       "      <td>6.8714</td>\n",
       "      <td>Darrin</td>\n",
       "      <td>Van Huff</td>\n",
       "    </tr>\n",
       "    <tr>\n",
       "      <th>3</th>\n",
       "      <td>4</td>\n",
       "      <td>US-2015-108966</td>\n",
       "      <td>2015-10-18</td>\n",
       "      <td>2015-10-18</td>\n",
       "      <td>Standard Class</td>\n",
       "      <td>SO-20335</td>\n",
       "      <td>Sean O'Donnell</td>\n",
       "      <td>Consumer</td>\n",
       "      <td>United States</td>\n",
       "      <td>Fort Lauderdale</td>\n",
       "      <td>...</td>\n",
       "      <td>FUR-TA-10000577</td>\n",
       "      <td>Furniture</td>\n",
       "      <td>Tables</td>\n",
       "      <td>Bretford CR4500 Series Slim Rectangular Table</td>\n",
       "      <td>957.5775</td>\n",
       "      <td>5</td>\n",
       "      <td>0.45</td>\n",
       "      <td>-383.0310</td>\n",
       "      <td>Sean</td>\n",
       "      <td>O'Donnell</td>\n",
       "    </tr>\n",
       "    <tr>\n",
       "      <th>4</th>\n",
       "      <td>5</td>\n",
       "      <td>US-2015-108966</td>\n",
       "      <td>2015-10-18</td>\n",
       "      <td>2015-10-18</td>\n",
       "      <td>Standard Class</td>\n",
       "      <td>SO-20335</td>\n",
       "      <td>Sean O'Donnell</td>\n",
       "      <td>Consumer</td>\n",
       "      <td>United States</td>\n",
       "      <td>Fort Lauderdale</td>\n",
       "      <td>...</td>\n",
       "      <td>OFF-ST-10000760</td>\n",
       "      <td>Office Supplies</td>\n",
       "      <td>Storage</td>\n",
       "      <td>Eldon Fold 'N Roll Cart System</td>\n",
       "      <td>22.3680</td>\n",
       "      <td>2</td>\n",
       "      <td>0.20</td>\n",
       "      <td>2.5164</td>\n",
       "      <td>Sean</td>\n",
       "      <td>O'Donnell</td>\n",
       "    </tr>\n",
       "  </tbody>\n",
       "</table>\n",
       "<p>5 rows × 23 columns</p>\n",
       "</div>"
      ],
      "text/plain": [
       "   row_id        order_id  order_date   ship_date       ship_mode customer_id  \\\n",
       "0       1  CA-2016-152156  2016-11-11  2016-11-11    Second Class    CG-12520   \n",
       "1       2  CA-2016-152156  2016-11-11  2016-11-11    Second Class    CG-12520   \n",
       "2       3  CA-2016-138688  2016-06-16  2016-06-16    Second Class    DV-13045   \n",
       "3       4  US-2015-108966  2015-10-18  2015-10-18  Standard Class    SO-20335   \n",
       "4       5  US-2015-108966  2015-10-18  2015-10-18  Standard Class    SO-20335   \n",
       "\n",
       "     customer_name    segment        country             city  ...  \\\n",
       "0      Claire Gute   Consumer  United States        Henderson  ...   \n",
       "1      Claire Gute   Consumer  United States        Henderson  ...   \n",
       "2  Darrin Van Huff  Corporate  United States      Los Angeles  ...   \n",
       "3   Sean O'Donnell   Consumer  United States  Fort Lauderdale  ...   \n",
       "4   Sean O'Donnell   Consumer  United States  Fort Lauderdale  ...   \n",
       "\n",
       "        product_id         category sub_category  \\\n",
       "0  FUR-BO-10001798        Furniture    Bookcases   \n",
       "1  FUR-CH-10000454        Furniture       Chairs   \n",
       "2  OFF-LA-10000240  Office Supplies       Labels   \n",
       "3  FUR-TA-10000577        Furniture       Tables   \n",
       "4  OFF-ST-10000760  Office Supplies      Storage   \n",
       "\n",
       "                                        product_name     sales quantity  \\\n",
       "0                  Bush Somerset Collection Bookcase  261.9600        2   \n",
       "1  Hon Deluxe Fabric Upholstered Stacking Chairs,...  731.9400        3   \n",
       "2  Self-Adhesive Address Labels for Typewriters b...   14.6200        2   \n",
       "3      Bretford CR4500 Series Slim Rectangular Table  957.5775        5   \n",
       "4                     Eldon Fold 'N Roll Cart System   22.3680        2   \n",
       "\n",
       "  discount    profit  first_name    surname  \n",
       "0     0.00   41.9136      Claire       Gute  \n",
       "1     0.00  219.5820      Claire       Gute  \n",
       "2     0.00    6.8714      Darrin   Van Huff  \n",
       "3     0.45 -383.0310        Sean  O'Donnell  \n",
       "4     0.20    2.5164        Sean  O'Donnell  \n",
       "\n",
       "[5 rows x 23 columns]"
      ]
     },
     "metadata": {},
     "output_type": "display_data"
    }
   ],
   "source": [
    "display(eshop.head())"
   ]
  },
  {
   "cell_type": "markdown",
   "metadata": {},
   "source": [
    "Describe contents"
   ]
  },
  {
   "cell_type": "code",
   "execution_count": 72,
   "metadata": {},
   "outputs": [
    {
     "data": {
      "text/html": [
       "<div>\n",
       "<style scoped>\n",
       "    .dataframe tbody tr th:only-of-type {\n",
       "        vertical-align: middle;\n",
       "    }\n",
       "\n",
       "    .dataframe tbody tr th {\n",
       "        vertical-align: top;\n",
       "    }\n",
       "\n",
       "    .dataframe thead th {\n",
       "        text-align: right;\n",
       "    }\n",
       "</style>\n",
       "<table border=\"1\" class=\"dataframe\">\n",
       "  <thead>\n",
       "    <tr style=\"text-align: right;\">\n",
       "      <th></th>\n",
       "      <th>row_id</th>\n",
       "      <th>postal_code</th>\n",
       "      <th>sales</th>\n",
       "      <th>quantity</th>\n",
       "      <th>discount</th>\n",
       "      <th>profit</th>\n",
       "    </tr>\n",
       "  </thead>\n",
       "  <tbody>\n",
       "    <tr>\n",
       "      <th>count</th>\n",
       "      <td>9993.000000</td>\n",
       "      <td>9993.000000</td>\n",
       "      <td>9993.000000</td>\n",
       "      <td>9993.000000</td>\n",
       "      <td>9993.000000</td>\n",
       "      <td>9993.000000</td>\n",
       "    </tr>\n",
       "    <tr>\n",
       "      <th>mean</th>\n",
       "      <td>4997.659161</td>\n",
       "      <td>55191.576403</td>\n",
       "      <td>229.852846</td>\n",
       "      <td>3.789753</td>\n",
       "      <td>0.156188</td>\n",
       "      <td>28.660971</td>\n",
       "    </tr>\n",
       "    <tr>\n",
       "      <th>std</th>\n",
       "      <td>2885.264122</td>\n",
       "      <td>32065.074478</td>\n",
       "      <td>623.276074</td>\n",
       "      <td>2.225149</td>\n",
       "      <td>0.206457</td>\n",
       "      <td>234.271476</td>\n",
       "    </tr>\n",
       "    <tr>\n",
       "      <th>min</th>\n",
       "      <td>1.000000</td>\n",
       "      <td>1040.000000</td>\n",
       "      <td>0.444000</td>\n",
       "      <td>1.000000</td>\n",
       "      <td>0.000000</td>\n",
       "      <td>-6599.978000</td>\n",
       "    </tr>\n",
       "    <tr>\n",
       "      <th>25%</th>\n",
       "      <td>2499.000000</td>\n",
       "      <td>23223.000000</td>\n",
       "      <td>17.280000</td>\n",
       "      <td>2.000000</td>\n",
       "      <td>0.000000</td>\n",
       "      <td>1.731000</td>\n",
       "    </tr>\n",
       "    <tr>\n",
       "      <th>50%</th>\n",
       "      <td>4998.000000</td>\n",
       "      <td>56560.000000</td>\n",
       "      <td>54.480000</td>\n",
       "      <td>3.000000</td>\n",
       "      <td>0.200000</td>\n",
       "      <td>8.671000</td>\n",
       "    </tr>\n",
       "    <tr>\n",
       "      <th>75%</th>\n",
       "      <td>7496.000000</td>\n",
       "      <td>90008.000000</td>\n",
       "      <td>209.940000</td>\n",
       "      <td>5.000000</td>\n",
       "      <td>0.200000</td>\n",
       "      <td>29.364000</td>\n",
       "    </tr>\n",
       "    <tr>\n",
       "      <th>max</th>\n",
       "      <td>9994.000000</td>\n",
       "      <td>99301.000000</td>\n",
       "      <td>22638.480000</td>\n",
       "      <td>14.000000</td>\n",
       "      <td>0.800000</td>\n",
       "      <td>8399.976000</td>\n",
       "    </tr>\n",
       "  </tbody>\n",
       "</table>\n",
       "</div>"
      ],
      "text/plain": [
       "            row_id   postal_code         sales     quantity     discount  \\\n",
       "count  9993.000000   9993.000000   9993.000000  9993.000000  9993.000000   \n",
       "mean   4997.659161  55191.576403    229.852846     3.789753     0.156188   \n",
       "std    2885.264122  32065.074478    623.276074     2.225149     0.206457   \n",
       "min       1.000000   1040.000000      0.444000     1.000000     0.000000   \n",
       "25%    2499.000000  23223.000000     17.280000     2.000000     0.000000   \n",
       "50%    4998.000000  56560.000000     54.480000     3.000000     0.200000   \n",
       "75%    7496.000000  90008.000000    209.940000     5.000000     0.200000   \n",
       "max    9994.000000  99301.000000  22638.480000    14.000000     0.800000   \n",
       "\n",
       "            profit  \n",
       "count  9993.000000  \n",
       "mean     28.660971  \n",
       "std     234.271476  \n",
       "min   -6599.978000  \n",
       "25%       1.731000  \n",
       "50%       8.671000  \n",
       "75%      29.364000  \n",
       "max    8399.976000  "
      ]
     },
     "metadata": {},
     "output_type": "display_data"
    },
    {
     "name": "stdout",
     "output_type": "stream",
     "text": [
      "<class 'pandas.core.frame.DataFrame'>\n",
      "Index: 9993 entries, 0 to 9993\n",
      "Data columns (total 24 columns):\n",
      " #   Column         Non-Null Count  Dtype  \n",
      "---  ------         --------------  -----  \n",
      " 0   row_id         9993 non-null   int64  \n",
      " 1   order_id       9993 non-null   object \n",
      " 2   order_date     9993 non-null   object \n",
      " 3   ship_date      9993 non-null   object \n",
      " 4   ship_mode      9993 non-null   object \n",
      " 5   customer_id    9993 non-null   object \n",
      " 6   customer_name  9993 non-null   object \n",
      " 7   segment        9993 non-null   object \n",
      " 8   country        9993 non-null   object \n",
      " 9   city           9993 non-null   object \n",
      " 10  state          9993 non-null   object \n",
      " 11  postal_code    9993 non-null   int64  \n",
      " 12  region         9993 non-null   object \n",
      " 13  product_id     9993 non-null   object \n",
      " 14  category       9993 non-null   object \n",
      " 15  sub_category   9993 non-null   object \n",
      " 16  product_name   9993 non-null   object \n",
      " 17  sales          9993 non-null   float64\n",
      " 18  quantity       9993 non-null   int64  \n",
      " 19  discount       9993 non-null   float64\n",
      " 20  profit         9993 non-null   float64\n",
      " 21  first_name     9993 non-null   object \n",
      " 22  surname        9985 non-null   object \n",
      " 23  address_id     9993 non-null   object \n",
      "dtypes: float64(3), int64(3), object(18)\n",
      "memory usage: 1.9+ MB\n"
     ]
    },
    {
     "data": {
      "text/plain": [
       "None"
      ]
     },
     "metadata": {},
     "output_type": "display_data"
    }
   ],
   "source": [
    "display(eshop.describe())\n",
    "display(eshop.info())"
   ]
  },
  {
   "cell_type": "markdown",
   "metadata": {},
   "source": [
    "Check for missing values"
   ]
  },
  {
   "cell_type": "code",
   "execution_count": 1,
   "metadata": {},
   "outputs": [
    {
     "ename": "NameError",
     "evalue": "name 'eshop' is not defined",
     "output_type": "error",
     "traceback": [
      "\u001b[1;31m---------------------------------------------------------------------------\u001b[0m",
      "\u001b[1;31mNameError\u001b[0m                                 Traceback (most recent call last)",
      "Cell \u001b[1;32mIn[1], line 1\u001b[0m\n\u001b[1;32m----> 1\u001b[0m display(\u001b[43meshop\u001b[49m\u001b[38;5;241m.\u001b[39misna()\u001b[38;5;241m.\u001b[39msum())\n",
      "\u001b[1;31mNameError\u001b[0m: name 'eshop' is not defined"
     ]
    }
   ],
   "source": [
    "display(eshop.isna().sum())"
   ]
  },
  {
   "cell_type": "markdown",
   "metadata": {},
   "source": [
    "Change any specific column names"
   ]
  },
  {
   "cell_type": "code",
   "execution_count": null,
   "metadata": {},
   "outputs": [],
   "source": [
    "dweather.rename({'temperature_2m_mean (°c)': 'mean_temp'}, axis='columns', inplace=True)\n",
    "display(dweather.head())"
   ]
  },
  {
   "cell_type": "markdown",
   "metadata": {},
   "source": [
    "Reorder columns"
   ]
  },
  {
   "cell_type": "code",
   "execution_count": null,
   "metadata": {},
   "outputs": [],
   "source": [
    "# copy list from df.columns\n",
    "# Put columns in desired order\n",
    "stations = stations.reindex(columns=['station_name','start_count', 'end_count', 'net_total', 'weekday_am_net',\n",
    "       'weekday_pm_net', 'fun_am_net', 'fun_pm_net', 'start_station_id', 'start_lat',\n",
    "       'start_lng'])"
   ]
  },
  {
   "cell_type": "markdown",
   "metadata": {},
   "source": [
    "Convert 'date' column values from 'object' to 'datetime64'"
   ]
  },
  {
   "cell_type": "code",
   "execution_count": null,
   "metadata": {},
   "outputs": [],
   "source": [
    "dweather['date'] = pd.to_datetime(dweather['date'])"
   ]
  },
  {
   "cell_type": "markdown",
   "metadata": {},
   "source": [
    "Once happy, create a copy"
   ]
  },
  {
   "cell_type": "code",
   "execution_count": null,
   "metadata": {},
   "outputs": [],
   "source": [
    "copy_dweather = dweather.copy()"
   ]
  },
  {
   "cell_type": "markdown",
   "metadata": {},
   "source": [
    "Replace NaN values with 0"
   ]
  },
  {
   "cell_type": "code",
   "execution_count": null,
   "metadata": {},
   "outputs": [],
   "source": [
    "dweather['member'] = dweather['casual'].fillna(0)"
   ]
  },
  {
   "cell_type": "code",
   "execution_count": 14,
   "metadata": {},
   "outputs": [],
   "source": [
    "eshop['Order Date'] = pd.to_datetime(eshop['Ship Date']).dt.strftime('%Y-%m-%d')\n"
   ]
  },
  {
   "cell_type": "code",
   "execution_count": 16,
   "metadata": {},
   "outputs": [
    {
     "name": "stdout",
     "output_type": "stream",
     "text": [
      "['AA-10315', 'AA-10375', 'AA-10480', 'AA-10645', 'AB-10015', 'AB-10060', 'AB-10105', 'AB-10150', 'AB-10165', 'AB-10255', 'AB-10600', 'AC-10420', 'AC-10450', 'AC-10615', 'AC-10660', 'AD-10180', 'AF-10870', 'AF-10885', 'AG-10270', 'AG-10300', 'AG-10330', 'AG-10390', 'AG-10495', 'AG-10525', 'AG-10675', 'AG-10765', 'AG-10900', 'AH-10030', 'AH-10075', 'AH-10120', 'AH-10195', 'AH-10210', 'AH-10465', 'AH-10585', 'AH-10690', 'AI-10855', 'AJ-10780', 'AJ-10795', 'AJ-10945', 'AJ-10960', 'AM-10360', 'AM-10705', 'AP-10720', 'AP-10915', 'AR-10345', 'AR-10405', 'AR-10510', 'AR-10540', 'AR-10825', 'AS-10045', 'AS-10090', 'AS-10135', 'AS-10225', 'AS-10240', 'AS-10285', 'AS-10630', 'AT-10435', 'AT-10735', 'AW-10840', 'AW-10930', 'AY-10555', 'AZ-10750', 'BB-10990', 'BB-11545', 'BC-11125', 'BD-11320', 'BD-11500', 'BD-11560', 'BD-11605', 'BD-11620', 'BD-11635', 'BD-11725', 'BD-11770', 'BE-11335', 'BE-11410', 'BE-11455', 'BF-10975', 'BF-11005', 'BF-11020', 'BF-11080', 'BF-11170', 'BF-11215', 'BF-11275', 'BG-11035', 'BG-11695', 'BG-11740', 'BH-11710', 'BK-11260', 'BM-11140', 'BM-11575', 'BM-11650', 'BM-11785', 'BN-11470', 'BN-11515', 'BO-11350', 'BO-11425', 'BP-11050', 'BP-11095', 'BP-11155', 'BP-11185', 'BP-11230', 'BP-11290', 'BS-11365', 'BS-11380', 'BS-11590', 'BS-11665', 'BS-11755', 'BS-11800', 'BT-11305', 'BT-11395', 'BT-11440', 'BT-11485', 'BT-11530', 'BT-11680', 'BV-11245', 'BW-11065', 'BW-11110', 'BW-11200', 'CA-11965', 'CA-12055', 'CA-12265', 'CA-12310', 'CA-12775', 'CB-12025', 'CB-12415', 'CB-12535', 'CC-12100', 'CC-12145', 'CC-12220', 'CC-12370', 'CC-12430', 'CC-12475', 'CC-12550', 'CC-12610', 'CC-12670', 'CC-12685', 'CD-11920', 'CD-11980', 'CD-12280', 'CD-12790', 'CG-12040', 'CG-12520', 'CH-12070', 'CJ-12010', 'CK-12205', 'CK-12325', 'CK-12595', 'CK-12760', 'CL-11890', 'CL-12565', 'CL-12700', 'CM-11815', 'CM-11935', 'CM-12115', 'CM-12160', 'CM-12190', 'CM-12235', 'CM-12385', 'CM-12445', 'CM-12655', 'CM-12715', 'CP-12085', 'CP-12340', 'CR-12580', 'CR-12625', 'CR-12730', 'CR-12820', 'CS-11845', 'CS-11860', 'CS-11950', 'CS-12130', 'CS-12175', 'CS-12250', 'CS-12355', 'CS-12400', 'CS-12460', 'CS-12490', 'CS-12505', 'CT-11995', 'CV-12295', 'CV-12805', 'CW-11905', 'CY-12745', 'Co-12640', 'DA-13450', 'DB-12910', 'DB-12970', 'DB-13060', 'DB-13120', 'DB-13210', 'DB-13270', 'DB-13360', 'DB-13405', 'DB-13555', 'DB-13615', 'DB-13660', 'DC-12850', 'DC-13285', 'DD-13570', 'DE-13255', 'DF-13135', 'DG-13300', 'DH-13075', 'DH-13675', 'DJ-13420', 'DJ-13510', 'DJ-13630', 'DK-12835', 'DK-12895', 'DK-12985', 'DK-13090', 'DK-13150', 'DK-13225', 'DK-13375', 'DL-12865', 'DL-12925', 'DL-13315', 'DL-13330', 'DL-13495', 'DM-12955', 'DM-13015', 'DM-13345', 'DM-13525', 'DN-13690', 'DO-13435', 'DO-13645', 'DP-13000', 'DP-13105', 'DP-13165', 'DP-13390', 'DR-12880', 'DR-12940', 'DS-13030', 'DS-13180', 'DV-13045', 'DV-13465', 'DW-13195', 'DW-13480', 'DW-13540', 'DW-13585', 'Dl-13600', 'Dp-13240', 'EA-14035', 'EB-13705', 'EB-13750', 'EB-13840', 'EB-13870', 'EB-13930', 'EB-13975', 'EB-14110', 'EB-14170', 'EC-14050', 'ED-13885', 'EG-13900', 'EH-13765', 'EH-13945', 'EH-13990', 'EH-14005', 'EH-14125', 'EH-14185', 'EJ-13720', 'EJ-14155', 'EK-13795', 'EL-13735', 'EM-13810', 'EM-13825', 'EM-13960', 'EM-14065', 'EM-14095', 'EM-14140', 'EM-14200', 'EN-13780', 'EP-13915', 'ER-13855', 'ES-14020', 'ES-14080', 'FA-14230', 'FC-14245', 'FC-14335', 'FG-14260', 'FH-14275', 'FH-14350', 'FH-14365', 'FM-14215', 'FM-14290', 'FM-14380', 'FO-14305', 'FP-14320', 'FW-14395', 'GA-14515', 'GA-14725', 'GB-14530', 'GB-14575', 'GD-14590', 'GG-14650', 'GH-14410', 'GH-14425', 'GH-14485', 'GH-14665', 'GK-14620', 'GM-14440', 'GM-14455', 'GM-14500', 'GM-14680', 'GM-14695', 'GP-14740', 'GR-14560', 'GT-14635', 'GT-14710', 'GT-14755', 'GW-14605', 'GZ-14470', 'GZ-14545', 'HA-14905', 'HA-14920', 'HD-14785', 'HE-14800', 'HF-14995', 'HG-14845', 'HG-14965', 'HG-15025', 'HJ-14875', 'HK-14890', 'HL-15040', 'HM-14860', 'HM-14980', 'HP-14815', 'HR-14770', 'HR-14830', 'HW-14935', 'HZ-14950', 'IG-15085', 'IL-15100', 'IM-15055', 'IM-15070', 'JA-15970', 'JB-15400', 'JB-15925', 'JB-16000', 'JB-16045', 'JC-15340', 'JC-15775', 'JC-16105', 'JD-15790', 'JD-15895', 'JD-16015', 'JD-16060', 'JD-16150', 'JE-15475', 'JE-15610', 'JE-15715', 'JE-15745', 'JE-16165', 'JF-15190', 'JF-15295', 'JF-15355', 'JF-15415', 'JF-15490', 'JF-15565', 'JG-15115', 'JG-15160', 'JG-15310', 'JG-15805', 'JH-15430', 'JH-15820', 'JH-15910', 'JH-15985', 'JH-16180', 'JJ-15445', 'JJ-15760', 'JK-15205', 'JK-15325', 'JK-15370', 'JK-15625', 'JK-15640', 'JK-15730', 'JK-16090', 'JK-16120', 'JL-15130', 'JL-15175', 'JL-15235', 'JL-15505', 'JL-15835', 'JL-15850', 'JM-15250', 'JM-15265', 'JM-15535', 'JM-15580', 'JM-15655', 'JM-15865', 'JM-16195', 'JO-15145', 'JO-15280', 'JO-15550', 'JP-15460', 'JP-15520', 'JP-16135', 'JR-15670', 'JR-16210', 'JS-15595', 'JS-15685', 'JS-15880', 'JS-15940', 'JS-16030', 'JW-15220', 'JW-15955', 'JW-16075', 'KA-16525', 'KB-16240', 'KB-16315', 'KB-16405', 'KB-16585', 'KB-16600', 'KC-16255', 'KC-16540', 'KC-16675', 'KD-16270', 'KD-16345', 'KD-16495', 'KD-16615', 'KE-16420', 'KF-16285', 'KH-16330', 'KH-16360', 'KH-16510', 'KH-16630', 'KH-16690', 'KL-16555', 'KL-16645', 'KM-16225', 'KM-16375', 'KM-16660', 'KM-16720', 'KN-16390', 'KN-16450', 'KN-16705', 'KS-16300', 'KT-16465', 'KT-16480', 'KW-16435', 'KW-16570', 'LA-16780', 'LB-16735', 'LB-16795', 'LC-16870', 'LC-16885', 'LC-16930', 'LC-16960', 'LC-17050', 'LC-17140', 'LD-17005', 'LE-16810', 'LF-17185', 'LH-16750', 'LH-16900', 'LH-17020', 'LH-17155', 'LL-16840', 'LM-17065', 'LO-17170', 'LP-17080', 'LP-17095', 'LR-16915', 'LR-17035', 'LS-16945', 'LS-16975', 'LS-17200', 'LS-17230', 'LS-17245', 'LT-16765', 'LT-17110', 'LW-16825', 'LW-16990', 'LW-17125', 'LW-17215', 'MA-17560', 'MA-17995', 'MB-17305', 'MB-18085', 'MC-17275', 'MC-17425', 'MC-17575', 'MC-17590', 'MC-17605', 'MC-17635', 'MC-17845', 'MC-18100', 'MC-18130', 'MD-17350', 'MD-17860', 'ME-17320', 'ME-17725', 'ME-18010', 'MF-17665', 'MF-18250', 'MG-17650', 'MG-17680', 'MG-17695', 'MG-17875', 'MG-17890', 'MG-18145', 'MH-17290', 'MH-17440', 'MH-17455', 'MH-17620', 'MH-17785', 'MH-18025', 'MH-18115', 'MJ-17740', 'MK-17905', 'MK-18160', 'ML-17395', 'ML-17410', 'ML-17755', 'ML-18040', 'ML-18265', 'MM-17260', 'MM-17920', 'MM-18055', 'MM-18280', 'MN-17935', 'MO-17500', 'MO-17800', 'MO-17950', 'MP-17470', 'MP-17965', 'MP-18175', 'MR-17545', 'MS-17365', 'MS-17530', 'MS-17710', 'MS-17770', 'MS-17830', 'MS-17980', 'MT-17815', 'MT-18070', 'MV-17485', 'MV-18190', 'MW-18220', 'MW-18235', 'MY-17380', 'MY-18295', 'MZ-17335', 'MZ-17515', 'NB-18580', 'NB-18655', 'NC-18340', 'NC-18415', 'NC-18535', 'NC-18625', 'ND-18370', 'ND-18460', 'NF-18385', 'NF-18475', 'NF-18595', 'NG-18355', 'NG-18430', 'NH-18610', 'NK-18490', 'NL-18310', 'NM-18445', 'NM-18520', 'NP-18325', 'NP-18670', 'NP-18685', 'NP-18700', 'NR-18550', 'NS-18505', 'NS-18640', 'NW-18400', 'NZ-18565', 'ON-18715', 'OT-18730', 'PA-19060', 'PB-18805', 'PB-19105', 'PB-19150', 'PB-19210', 'PC-18745', 'PC-19000', 'PF-19120', 'PF-19165', 'PF-19225', 'PG-18820', 'PG-18895', 'PJ-18835', 'PJ-19015', 'PK-18910', 'PK-19075', 'PL-18925', 'PM-18940', 'PM-19135', 'PN-18775', 'PO-18850', 'PO-18865', 'PO-19180', 'PO-19195', 'PP-18955', 'PR-18880', 'PS-18760', 'PS-18970', 'PS-19045', 'PT-19090', 'PV-18985', 'PW-19030', 'PW-19240', 'QJ-19255', 'RA-19285', 'RA-19885', 'RA-19915', 'RA-19945', 'RB-19330', 'RB-19360', 'RB-19435', 'RB-19465', 'RB-19570', 'RB-19645', 'RB-19705', 'RB-19795', 'RC-19825', 'RC-19960', 'RD-19480', 'RD-19585', 'RD-19660', 'RD-19720', 'RD-19810', 'RD-19900', 'RD-19930', 'RE-19450', 'RF-19345', 'RF-19735', 'RF-19840', 'RH-19495', 'RH-19510', 'RH-19555', 'RH-19600', 'RK-19300', 'RL-19615', 'RM-19375', 'RM-19675', 'RO-19780', 'RP-19270', 'RP-19390', 'RP-19855', 'RR-19315', 'RR-19525', 'RS-19420', 'RS-19765', 'RS-19870', 'RW-19540', 'RW-19630', 'RW-19690', 'SA-20830', 'SB-20170', 'SB-20185', 'SB-20290', 'SC-20020', 'SC-20050', 'SC-20095', 'SC-20230', 'SC-20260', 'SC-20305', 'SC-20380', 'SC-20440', 'SC-20575', 'SC-20680', 'SC-20695', 'SC-20725', 'SC-20770', 'SC-20800', 'SC-20845', 'SD-20485', 'SE-20110', 'SF-20065', 'SF-20200', 'SF-20965', 'SG-20080', 'SG-20470', 'SG-20605', 'SG-20890', 'SH-19975', 'SH-20395', 'SH-20635', 'SJ-20125', 'SJ-20215', 'SJ-20500', 'SK-19990', 'SL-20155', 'SM-20005', 'SM-20320', 'SM-20950', 'SN-20560', 'SN-20710', 'SO-20335', 'SP-20545', 'SP-20620', 'SP-20650', 'SP-20860', 'SP-20920', 'SR-20425', 'SR-20740', 'SS-20140', 'SS-20410', 'SS-20515', 'SS-20590', 'SS-20875', 'ST-20530', 'SU-20665', 'SV-20365', 'SV-20785', 'SV-20815', 'SV-20935', 'SW-20245', 'SW-20275', 'SW-20350', 'SW-20455', 'SW-20755', 'SZ-20035', 'TA-21385', 'TB-21055', 'TB-21175', 'TB-21190', 'TB-21250', 'TB-21280', 'TB-21355', 'TB-21400', 'TB-21520', 'TB-21595', 'TB-21625', 'TC-20980', 'TC-21295', 'TC-21475', 'TC-21535', 'TD-20995', 'TG-21310', 'TG-21640', 'TH-21100', 'TH-21115', 'TH-21235', 'TH-21550', 'TM-21010', 'TM-21490', 'TN-21040', 'TP-21130', 'TP-21415', 'TP-21565', 'TR-21325', 'TS-21085', 'TS-21160', 'TS-21205', 'TS-21340', 'TS-21370', 'TS-21430', 'TS-21505', 'TS-21610', 'TS-21655', 'TT-21070', 'TT-21220', 'TT-21265', 'TT-21460', 'TW-21025', 'TZ-21580', 'VB-21745', 'VD-21670', 'VF-21715', 'VG-21790', 'VG-21805', 'VM-21685', 'VM-21835', 'VP-21730', 'VP-21760', 'VS-21820', 'VT-21700', 'VW-21775', 'WB-21850', 'XP-21865', 'YC-21895', 'YS-21880', 'ZC-21910', 'ZD-21925']\n"
     ]
    }
   ],
   "source": [
    "address_fields = ['Country', 'City', 'State', 'Postal Code']\n",
    "grouped = eshop.groupby('Customer ID')[address_fields].nunique()\n",
    "\n",
    "# Customers with more than one address\n",
    "multiple_addresses = grouped[grouped > 1].any(axis=1)\n",
    "\n",
    "# Displaying customer IDs with multiple addresses\n",
    "print(multiple_addresses[multiple_addresses].index.tolist())\n"
   ]
  },
  {
   "cell_type": "markdown",
   "metadata": {},
   "source": [
    "1 order = 1 address!"
   ]
  },
  {
   "cell_type": "code",
   "execution_count": 17,
   "metadata": {},
   "outputs": [
    {
     "name": "stdout",
     "output_type": "stream",
     "text": [
      "[]\n"
     ]
    }
   ],
   "source": [
    "order_grouped = eshop.groupby('Order ID')[address_fields].nunique()\n",
    "\n",
    "# Customers with more than one address\n",
    "order_multiple_addresses = order_grouped[order_grouped > 1].any(axis=1)\n",
    "\n",
    "# Displaying customer IDs with multiple addresses\n",
    "print(order_multiple_addresses[order_multiple_addresses].index.tolist())"
   ]
  },
  {
   "cell_type": "markdown",
   "metadata": {},
   "source": [
    "1 order = 1 Ship Date!"
   ]
  },
  {
   "cell_type": "code",
   "execution_count": 20,
   "metadata": {},
   "outputs": [
    {
     "name": "stdout",
     "output_type": "stream",
     "text": [
      "[]\n"
     ]
    }
   ],
   "source": [
    "ship_grouped = eshop.groupby('Order ID')['Ship Date'].nunique()\n",
    "multiple_shipping_dates = ship_grouped[ship_grouped > 1]\n",
    "print(multiple_shipping_dates.index.tolist())"
   ]
  },
  {
   "cell_type": "markdown",
   "metadata": {},
   "source": [
    "1 order = 1 Ship Mode!"
   ]
  },
  {
   "cell_type": "code",
   "execution_count": 21,
   "metadata": {},
   "outputs": [
    {
     "name": "stdout",
     "output_type": "stream",
     "text": [
      "[]\n"
     ]
    }
   ],
   "source": [
    "mode_grouped = eshop.groupby('Order ID')['Ship Mode'].nunique()\n",
    "multiple_modes = mode_grouped[mode_grouped > 1]\n",
    "print(multiple_modes.index.tolist())"
   ]
  },
  {
   "cell_type": "code",
   "execution_count": 24,
   "metadata": {},
   "outputs": [],
   "source": [
    "import pandas as pd\n",
    "import os\n",
    "import sqlite3\n",
    "from sqlite3 import Error"
   ]
  },
  {
   "cell_type": "code",
   "execution_count": 25,
   "metadata": {},
   "outputs": [],
   "source": [
    "eshop.to_csv('Sample-Superstore2.csv', index=False)"
   ]
  },
  {
   "cell_type": "code",
   "execution_count": 26,
   "metadata": {},
   "outputs": [],
   "source": [
    "path = r'C:\\\\Asus WebStorage\\\\psabin@gmail.com\\\\MySyncFolder\\\\Data Science Course\\\\E-Commerce\\\\'"
   ]
  },
  {
   "cell_type": "code",
   "execution_count": 27,
   "metadata": {},
   "outputs": [],
   "source": [
    "eshop_db = sqlite3.connect('eshop_database.db')"
   ]
  },
  {
   "cell_type": "code",
   "execution_count": 28,
   "metadata": {},
   "outputs": [],
   "source": [
    "c = eshop_db.cursor()"
   ]
  },
  {
   "cell_type": "code",
   "execution_count": 37,
   "metadata": {},
   "outputs": [
    {
     "data": {
      "text/plain": [
       "<sqlite3.Cursor at 0x231683c2a40>"
      ]
     },
     "execution_count": 37,
     "metadata": {},
     "output_type": "execute_result"
    }
   ],
   "source": [
    "c.execute('''\n",
    "CREATE TABLE IF NOT EXISTS \"orders\" (\n",
    "\t\"order_id\"\tTEXT,\n",
    "\t\"order_date\"\tTEXT,\n",
    "\t\"ship_date\"\tTEXT,\n",
    "\t\"ship_mode\"\tTEXT,\n",
    "\t\"customer_id\"\tTEXT,\n",
    "\t\"address_id\"\tTEXT,\n",
    "\tPRIMARY KEY(\"order_id\")\n",
    ");\n",
    "''')"
   ]
  },
  {
   "cell_type": "code",
   "execution_count": 31,
   "metadata": {},
   "outputs": [
    {
     "data": {
      "text/plain": [
       "<sqlite3.Cursor at 0x231683c2a40>"
      ]
     },
     "execution_count": 31,
     "metadata": {},
     "output_type": "execute_result"
    }
   ],
   "source": [
    "c.execute('''\n",
    "DROP TABLE IF EXISTS \"order_details\";\n",
    "''')"
   ]
  },
  {
   "cell_type": "code",
   "execution_count": 32,
   "metadata": {},
   "outputs": [
    {
     "data": {
      "text/plain": [
       "<sqlite3.Cursor at 0x231683c2a40>"
      ]
     },
     "execution_count": 32,
     "metadata": {},
     "output_type": "execute_result"
    }
   ],
   "source": [
    "c.execute('''\n",
    "CREATE TABLE IF NOT EXISTS \"order_details\" (\n",
    "\t\"order_id\"\tTEXT,\n",
    "\t\"product_id\"\tTEXT,\n",
    "\t\"quantity\"\tINTEGER,\n",
    "\t\"discount\"\tREAL,\n",
    "\t\"sales\"\tREAL,\n",
    "\t\"profit\"\tREAL,\n",
    "\tPRIMARY KEY(\"order_id\",\"product_id\")\n",
    ");\n",
    "''')"
   ]
  },
  {
   "cell_type": "code",
   "execution_count": 35,
   "metadata": {},
   "outputs": [
    {
     "data": {
      "text/plain": [
       "<sqlite3.Cursor at 0x231683c2a40>"
      ]
     },
     "execution_count": 35,
     "metadata": {},
     "output_type": "execute_result"
    }
   ],
   "source": [
    "c.execute('''\n",
    "CREATE TABLE IF NOT EXISTS \"products\" (\n",
    "\t\"product_id\"\tTEXT,\n",
    "\t\"product_name\"\tTEXT,\n",
    "\t\"category\"\tTEXT,\n",
    "\t\"sub_category\"\tTEXT,\n",
    "\tPRIMARY KEY(\"product_id\")\n",
    ");\n",
    "''')"
   ]
  },
  {
   "cell_type": "code",
   "execution_count": 38,
   "metadata": {},
   "outputs": [
    {
     "data": {
      "text/plain": [
       "<sqlite3.Cursor at 0x231683c2a40>"
      ]
     },
     "execution_count": 38,
     "metadata": {},
     "output_type": "execute_result"
    }
   ],
   "source": [
    "c.execute('''\n",
    "CREATE TABLE IF NOT EXISTS \"customers\" (\n",
    "\t\"customer_id\"\tTEXT,\n",
    "\t\"first_name\"\tTEXT,\n",
    "\t\"surname\"\tTEXT,\n",
    "\t\"segment\"\tTEXT,\n",
    "\tPRIMARY KEY(\"customer_id\")\n",
    ");\n",
    "''')"
   ]
  },
  {
   "cell_type": "code",
   "execution_count": 40,
   "metadata": {},
   "outputs": [
    {
     "data": {
      "text/plain": [
       "<sqlite3.Cursor at 0x231683c2a40>"
      ]
     },
     "execution_count": 40,
     "metadata": {},
     "output_type": "execute_result"
    }
   ],
   "source": [
    "c.execute('''\n",
    "CREATE TABLE IF NOT EXISTS \"addresses\" (\n",
    "\t\"address_id\"\tTEXT,\n",
    "\t\"country\"\tTEXT,\n",
    "\t\"city\"\tTEXT,\n",
    "\t\"state\"\tTEXT,\t\n",
    "    \"postal_code\"\tTEXT,\n",
    "\t\"region\"\tTEXT,\n",
    "\tPRIMARY KEY(\"address_id\")\n",
    ");\n",
    "''')"
   ]
  },
  {
   "cell_type": "code",
   "execution_count": 50,
   "metadata": {},
   "outputs": [
    {
     "name": "stderr",
     "output_type": "stream",
     "text": [
      "C:\\Users\\psabi\\AppData\\Local\\Temp\\ipykernel_2052\\686817426.py:5: SettingWithCopyWarning: \n",
      "A value is trying to be set on a copy of a slice from a DataFrame\n",
      "\n",
      "See the caveats in the documentation: https://pandas.pydata.org/pandas-docs/stable/user_guide/indexing.html#returning-a-view-versus-a-copy\n",
      "  addresses.sort_values(by='customer_id', inplace=True)\n",
      "C:\\Users\\psabi\\AppData\\Local\\Temp\\ipykernel_2052\\686817426.py:8: SettingWithCopyWarning: \n",
      "A value is trying to be set on a copy of a slice from a DataFrame.\n",
      "Try using .loc[row_indexer,col_indexer] = value instead\n",
      "\n",
      "See the caveats in the documentation: https://pandas.pydata.org/pandas-docs/stable/user_guide/indexing.html#returning-a-view-versus-a-copy\n",
      "  addresses['address_id'] = addresses.groupby('customer_id').cumcount() + 1\n",
      "C:\\Users\\psabi\\AppData\\Local\\Temp\\ipykernel_2052\\686817426.py:9: SettingWithCopyWarning: \n",
      "A value is trying to be set on a copy of a slice from a DataFrame.\n",
      "Try using .loc[row_indexer,col_indexer] = value instead\n",
      "\n",
      "See the caveats in the documentation: https://pandas.pydata.org/pandas-docs/stable/user_guide/indexing.html#returning-a-view-versus-a-copy\n",
      "  addresses['address_id'] = addresses['customer_id'] + 'A' + addresses['address_id'].astype(str)\n"
     ]
    },
    {
     "data": {
      "text/html": [
       "<div>\n",
       "<style scoped>\n",
       "    .dataframe tbody tr th:only-of-type {\n",
       "        vertical-align: middle;\n",
       "    }\n",
       "\n",
       "    .dataframe tbody tr th {\n",
       "        vertical-align: top;\n",
       "    }\n",
       "\n",
       "    .dataframe thead th {\n",
       "        text-align: right;\n",
       "    }\n",
       "</style>\n",
       "<table border=\"1\" class=\"dataframe\">\n",
       "  <thead>\n",
       "    <tr style=\"text-align: right;\">\n",
       "      <th></th>\n",
       "      <th>row_id</th>\n",
       "      <th>order_id</th>\n",
       "      <th>order_date</th>\n",
       "      <th>ship_date</th>\n",
       "      <th>ship_mode</th>\n",
       "      <th>customer_id</th>\n",
       "      <th>customer_name</th>\n",
       "      <th>segment</th>\n",
       "      <th>country</th>\n",
       "      <th>city</th>\n",
       "      <th>...</th>\n",
       "      <th>category</th>\n",
       "      <th>sub_category</th>\n",
       "      <th>product_name</th>\n",
       "      <th>sales</th>\n",
       "      <th>quantity</th>\n",
       "      <th>discount</th>\n",
       "      <th>profit</th>\n",
       "      <th>first_name</th>\n",
       "      <th>surname</th>\n",
       "      <th>address_id</th>\n",
       "    </tr>\n",
       "  </thead>\n",
       "  <tbody>\n",
       "    <tr>\n",
       "      <th>1159</th>\n",
       "      <td>1160</td>\n",
       "      <td>CA-2017-147039</td>\n",
       "      <td>2017-07-04</td>\n",
       "      <td>2017-07-04</td>\n",
       "      <td>Standard Class</td>\n",
       "      <td>AA-10315</td>\n",
       "      <td>Alex Avila</td>\n",
       "      <td>Consumer</td>\n",
       "      <td>United States</td>\n",
       "      <td>Minneapolis</td>\n",
       "      <td>...</td>\n",
       "      <td>Office Supplies</td>\n",
       "      <td>Appliances</td>\n",
       "      <td>Belkin 325VA UPS Surge Protector, 6'</td>\n",
       "      <td>362.940</td>\n",
       "      <td>3</td>\n",
       "      <td>0.0</td>\n",
       "      <td>90.7350</td>\n",
       "      <td>Alex</td>\n",
       "      <td>Avila</td>\n",
       "      <td>AA-10315A1</td>\n",
       "    </tr>\n",
       "    <tr>\n",
       "      <th>1299</th>\n",
       "      <td>1300</td>\n",
       "      <td>CA-2015-121391</td>\n",
       "      <td>2015-10-07</td>\n",
       "      <td>2015-10-07</td>\n",
       "      <td>First Class</td>\n",
       "      <td>AA-10315</td>\n",
       "      <td>Alex Avila</td>\n",
       "      <td>Consumer</td>\n",
       "      <td>United States</td>\n",
       "      <td>San Francisco</td>\n",
       "      <td>...</td>\n",
       "      <td>Office Supplies</td>\n",
       "      <td>Storage</td>\n",
       "      <td>Tenex Personal Project File with Scoop Front D...</td>\n",
       "      <td>26.960</td>\n",
       "      <td>2</td>\n",
       "      <td>0.0</td>\n",
       "      <td>7.0096</td>\n",
       "      <td>Alex</td>\n",
       "      <td>Avila</td>\n",
       "      <td>AA-10315A2</td>\n",
       "    </tr>\n",
       "    <tr>\n",
       "      <th>5198</th>\n",
       "      <td>5199</td>\n",
       "      <td>CA-2016-103982</td>\n",
       "      <td>2016-03-08</td>\n",
       "      <td>2016-03-08</td>\n",
       "      <td>Standard Class</td>\n",
       "      <td>AA-10315</td>\n",
       "      <td>Alex Avila</td>\n",
       "      <td>Consumer</td>\n",
       "      <td>United States</td>\n",
       "      <td>Round Rock</td>\n",
       "      <td>...</td>\n",
       "      <td>Office Supplies</td>\n",
       "      <td>Supplies</td>\n",
       "      <td>High Speed Automatic Electric Letter Opener</td>\n",
       "      <td>3930.072</td>\n",
       "      <td>3</td>\n",
       "      <td>0.2</td>\n",
       "      <td>-786.0144</td>\n",
       "      <td>Alex</td>\n",
       "      <td>Avila</td>\n",
       "      <td>AA-10315A3</td>\n",
       "    </tr>\n",
       "    <tr>\n",
       "      <th>7468</th>\n",
       "      <td>7469</td>\n",
       "      <td>CA-2014-138100</td>\n",
       "      <td>2014-09-20</td>\n",
       "      <td>2014-09-20</td>\n",
       "      <td>Standard Class</td>\n",
       "      <td>AA-10315</td>\n",
       "      <td>Alex Avila</td>\n",
       "      <td>Consumer</td>\n",
       "      <td>United States</td>\n",
       "      <td>New York City</td>\n",
       "      <td>...</td>\n",
       "      <td>Office Supplies</td>\n",
       "      <td>Paper</td>\n",
       "      <td>Easy-staple paper</td>\n",
       "      <td>14.940</td>\n",
       "      <td>3</td>\n",
       "      <td>0.0</td>\n",
       "      <td>7.0218</td>\n",
       "      <td>Alex</td>\n",
       "      <td>Avila</td>\n",
       "      <td>AA-10315A4</td>\n",
       "    </tr>\n",
       "    <tr>\n",
       "      <th>2229</th>\n",
       "      <td>2230</td>\n",
       "      <td>CA-2014-128055</td>\n",
       "      <td>2014-04-05</td>\n",
       "      <td>2014-04-05</td>\n",
       "      <td>Standard Class</td>\n",
       "      <td>AA-10315</td>\n",
       "      <td>Alex Avila</td>\n",
       "      <td>Consumer</td>\n",
       "      <td>United States</td>\n",
       "      <td>San Francisco</td>\n",
       "      <td>...</td>\n",
       "      <td>Office Supplies</td>\n",
       "      <td>Binders</td>\n",
       "      <td>GBC DocuBind 200 Manual Binding Machine</td>\n",
       "      <td>673.568</td>\n",
       "      <td>2</td>\n",
       "      <td>0.2</td>\n",
       "      <td>252.5880</td>\n",
       "      <td>Alex</td>\n",
       "      <td>Avila</td>\n",
       "      <td>AA-10315A5</td>\n",
       "    </tr>\n",
       "  </tbody>\n",
       "</table>\n",
       "<p>5 rows × 24 columns</p>\n",
       "</div>"
      ],
      "text/plain": [
       "      row_id        order_id  order_date   ship_date       ship_mode  \\\n",
       "1159    1160  CA-2017-147039  2017-07-04  2017-07-04  Standard Class   \n",
       "1299    1300  CA-2015-121391  2015-10-07  2015-10-07     First Class   \n",
       "5198    5199  CA-2016-103982  2016-03-08  2016-03-08  Standard Class   \n",
       "7468    7469  CA-2014-138100  2014-09-20  2014-09-20  Standard Class   \n",
       "2229    2230  CA-2014-128055  2014-04-05  2014-04-05  Standard Class   \n",
       "\n",
       "     customer_id customer_name   segment        country           city  ...  \\\n",
       "1159    AA-10315    Alex Avila  Consumer  United States    Minneapolis  ...   \n",
       "1299    AA-10315    Alex Avila  Consumer  United States  San Francisco  ...   \n",
       "5198    AA-10315    Alex Avila  Consumer  United States     Round Rock  ...   \n",
       "7468    AA-10315    Alex Avila  Consumer  United States  New York City  ...   \n",
       "2229    AA-10315    Alex Avila  Consumer  United States  San Francisco  ...   \n",
       "\n",
       "             category  sub_category  \\\n",
       "1159  Office Supplies    Appliances   \n",
       "1299  Office Supplies       Storage   \n",
       "5198  Office Supplies      Supplies   \n",
       "7468  Office Supplies         Paper   \n",
       "2229  Office Supplies       Binders   \n",
       "\n",
       "                                           product_name     sales quantity  \\\n",
       "1159               Belkin 325VA UPS Surge Protector, 6'   362.940        3   \n",
       "1299  Tenex Personal Project File with Scoop Front D...    26.960        2   \n",
       "5198        High Speed Automatic Electric Letter Opener  3930.072        3   \n",
       "7468                                  Easy-staple paper    14.940        3   \n",
       "2229            GBC DocuBind 200 Manual Binding Machine   673.568        2   \n",
       "\n",
       "     discount    profit  first_name  surname  address_id  \n",
       "1159      0.0   90.7350        Alex    Avila  AA-10315A1  \n",
       "1299      0.0    7.0096        Alex    Avila  AA-10315A2  \n",
       "5198      0.2 -786.0144        Alex    Avila  AA-10315A3  \n",
       "7468      0.0    7.0218        Alex    Avila  AA-10315A4  \n",
       "2229      0.2  252.5880        Alex    Avila  AA-10315A5  \n",
       "\n",
       "[5 rows x 24 columns]"
      ]
     },
     "metadata": {},
     "output_type": "display_data"
    }
   ],
   "source": [
    "# Create a new DataFrame for addresses with unique combinations\n",
    "addresses = eshop.drop_duplicates(subset=['customer_id', 'country', 'city', 'state', 'postal_code'])\n",
    "\n",
    "# Sort by customer_id to maintain order\n",
    "addresses.sort_values(by='customer_id', inplace=True)\n",
    "\n",
    "# Generate a unique address_id by enumerating customer addresses\n",
    "addresses['address_id'] = addresses.groupby('customer_id').cumcount() + 1\n",
    "addresses['address_id'] = addresses['customer_id'] + 'A' + addresses['address_id'].astype(str)\n",
    "\n",
    "display(addresses.head())\n"
   ]
  },
  {
   "cell_type": "code",
   "execution_count": 51,
   "metadata": {},
   "outputs": [
    {
     "name": "stdout",
     "output_type": "stream",
     "text": [
      "<class 'pandas.core.frame.DataFrame'>\n",
      "Index: 4910 entries, 1159 to 8341\n",
      "Data columns (total 24 columns):\n",
      " #   Column         Non-Null Count  Dtype  \n",
      "---  ------         --------------  -----  \n",
      " 0   row_id         4910 non-null   int64  \n",
      " 1   order_id       4910 non-null   object \n",
      " 2   order_date     4910 non-null   object \n",
      " 3   ship_date      4910 non-null   object \n",
      " 4   ship_mode      4910 non-null   object \n",
      " 5   customer_id    4910 non-null   object \n",
      " 6   customer_name  4910 non-null   object \n",
      " 7   segment        4910 non-null   object \n",
      " 8   country        4910 non-null   object \n",
      " 9   city           4910 non-null   object \n",
      " 10  state          4910 non-null   object \n",
      " 11  postal_code    4910 non-null   int64  \n",
      " 12  region         4910 non-null   object \n",
      " 13  product_id     4910 non-null   object \n",
      " 14  category       4910 non-null   object \n",
      " 15  sub_category   4910 non-null   object \n",
      " 16  product_name   4910 non-null   object \n",
      " 17  sales          4910 non-null   float64\n",
      " 18  quantity       4910 non-null   int64  \n",
      " 19  discount       4910 non-null   float64\n",
      " 20  profit         4910 non-null   float64\n",
      " 21  first_name     4910 non-null   object \n",
      " 22  surname        4905 non-null   object \n",
      " 23  address_id     4910 non-null   object \n",
      "dtypes: float64(3), int64(3), object(18)\n",
      "memory usage: 959.0+ KB\n"
     ]
    },
    {
     "data": {
      "text/plain": [
       "None"
      ]
     },
     "metadata": {},
     "output_type": "display_data"
    }
   ],
   "source": [
    "display(addresses.info())"
   ]
  },
  {
   "cell_type": "code",
   "execution_count": 52,
   "metadata": {},
   "outputs": [],
   "source": [
    "# Merge this 'address_id' back into the original DataFrame\n",
    "eshop = eshop.merge(addresses[['customer_id', 'country', 'city', 'state', 'postal_code', 'address_id']], \n",
    "                    on=['customer_id', 'country', 'city', 'state', 'postal_code'], \n",
    "                    how='left')"
   ]
  },
  {
   "cell_type": "code",
   "execution_count": null,
   "metadata": {},
   "outputs": [],
   "source": [
    "# Select only the columns that exist in the 'orders' table\n",
    "orders_columns = ['order_id', 'order_date', 'ship_date', 'ship_mode', 'customer_id', 'address_id']  \n",
    "orders_df = eshop[orders_columns]\n",
    "\n",
    "\n"
   ]
  },
  {
   "cell_type": "code",
   "execution_count": 54,
   "metadata": {},
   "outputs": [
    {
     "name": "stdout",
     "output_type": "stream",
     "text": [
      "<class 'pandas.core.frame.DataFrame'>\n",
      "Index: 5009 entries, 0 to 9993\n",
      "Data columns (total 6 columns):\n",
      " #   Column       Non-Null Count  Dtype \n",
      "---  ------       --------------  ----- \n",
      " 0   order_id     5009 non-null   object\n",
      " 1   order_date   5009 non-null   object\n",
      " 2   ship_date    5009 non-null   object\n",
      " 3   ship_mode    5009 non-null   object\n",
      " 4   customer_id  5009 non-null   object\n",
      " 5   address_id   5009 non-null   object\n",
      "dtypes: object(6)\n",
      "memory usage: 273.9+ KB\n"
     ]
    },
    {
     "data": {
      "text/plain": [
       "None"
      ]
     },
     "metadata": {},
     "output_type": "display_data"
    }
   ],
   "source": [
    "orders_df_unique = orders_df.drop_duplicates()\n",
    "display(orders_df_unique.info())"
   ]
  },
  {
   "cell_type": "code",
   "execution_count": 55,
   "metadata": {},
   "outputs": [
    {
     "data": {
      "text/plain": [
       "5009"
      ]
     },
     "execution_count": 55,
     "metadata": {},
     "output_type": "execute_result"
    }
   ],
   "source": [
    "# Import the filtered data into the database\n",
    "orders_df_unique.to_sql('orders', eshop_db, if_exists='append', index=False)"
   ]
  },
  {
   "cell_type": "code",
   "execution_count": null,
   "metadata": {},
   "outputs": [],
   "source": [
    "# Select only the columns that exist in the 'orders' table\n",
    "addresses_columns = ['address_id', 'country', 'city', 'state', 'postal_code', 'region']  \n",
    "addresses_df = eshop[addresses_columns]\n",
    "addresses_df_unique = addresses_df.drop_duplicates()\n",
    "display(addresses_df.info())\n",
    "display(addresses_df_unique.info())"
   ]
  },
  {
   "cell_type": "code",
   "execution_count": 57,
   "metadata": {},
   "outputs": [
    {
     "data": {
      "text/plain": [
       "4910"
      ]
     },
     "execution_count": 57,
     "metadata": {},
     "output_type": "execute_result"
    }
   ],
   "source": [
    "addresses_df_unique.to_sql('addresses', eshop_db, if_exists='append', index=False)"
   ]
  },
  {
   "cell_type": "code",
   "execution_count": 58,
   "metadata": {},
   "outputs": [
    {
     "name": "stdout",
     "output_type": "stream",
     "text": [
      "<class 'pandas.core.frame.DataFrame'>\n",
      "RangeIndex: 9994 entries, 0 to 9993\n",
      "Data columns (total 4 columns):\n",
      " #   Column       Non-Null Count  Dtype \n",
      "---  ------       --------------  ----- \n",
      " 0   customer_id  9994 non-null   object\n",
      " 1   first_name   9994 non-null   object\n",
      " 2   surname      9986 non-null   object\n",
      " 3   segment      9994 non-null   object\n",
      "dtypes: object(4)\n",
      "memory usage: 312.4+ KB\n"
     ]
    },
    {
     "data": {
      "text/plain": [
       "None"
      ]
     },
     "metadata": {},
     "output_type": "display_data"
    },
    {
     "name": "stdout",
     "output_type": "stream",
     "text": [
      "<class 'pandas.core.frame.DataFrame'>\n",
      "Index: 793 entries, 0 to 9558\n",
      "Data columns (total 4 columns):\n",
      " #   Column       Non-Null Count  Dtype \n",
      "---  ------       --------------  ----- \n",
      " 0   customer_id  793 non-null    object\n",
      " 1   first_name   793 non-null    object\n",
      " 2   surname      792 non-null    object\n",
      " 3   segment      793 non-null    object\n",
      "dtypes: object(4)\n",
      "memory usage: 31.0+ KB\n"
     ]
    },
    {
     "data": {
      "text/plain": [
       "None"
      ]
     },
     "metadata": {},
     "output_type": "display_data"
    }
   ],
   "source": [
    "# Select only the columns that exist in the 'orders' table\n",
    "customers_columns = ['customer_id', 'first_name', 'surname', 'segment']  \n",
    "customers_df = eshop[customers_columns]\n",
    "customers_df_unique = customers_df.drop_duplicates()\n",
    "display(customers_df.info())\n",
    "display(customers_df_unique.info())"
   ]
  },
  {
   "cell_type": "code",
   "execution_count": 59,
   "metadata": {},
   "outputs": [
    {
     "data": {
      "text/plain": [
       "793"
      ]
     },
     "execution_count": 59,
     "metadata": {},
     "output_type": "execute_result"
    }
   ],
   "source": [
    "customers_df_unique.to_sql('customers', eshop_db, if_exists='append', index=False)"
   ]
  },
  {
   "cell_type": "code",
   "execution_count": null,
   "metadata": {},
   "outputs": [],
   "source": [
    "eshop = eshop.drop(3406)\n",
    "display(eshop.info())"
   ]
  },
  {
   "cell_type": "code",
   "execution_count": null,
   "metadata": {},
   "outputs": [],
   "source": [
    "# Select only the columns that exist in the 'orders' table\n",
    "details_columns = ['order_id', 'product_id', 'quantity', 'discount', 'sales', 'profit']  \n",
    "details_df = eshop[details_columns]\n",
    "details_df_unique = details_df.drop_duplicates()\n",
    "display(details_df_unique.info())"
   ]
  },
  {
   "cell_type": "code",
   "execution_count": 71,
   "metadata": {},
   "outputs": [
    {
     "name": "stdout",
     "output_type": "stream",
     "text": [
      "      row_id        order_id  order_date   ship_date       ship_mode  \\\n",
      "350      351  CA-2016-129714  2016-09-03  2016-09-03     First Class   \n",
      "352      353  CA-2016-129714  2016-09-03  2016-09-03     First Class   \n",
      "430      431  US-2016-123750  2016-04-21  2016-04-21  Standard Class   \n",
      "431      432  US-2016-123750  2016-04-21  2016-04-21  Standard Class   \n",
      "1300    1301  CA-2016-137043  2016-12-25  2016-12-25    Second Class   \n",
      "1301    1302  CA-2016-137043  2016-12-25  2016-12-25    Second Class   \n",
      "3183    3184  CA-2017-152912  2017-11-12  2017-11-12    Second Class   \n",
      "3184    3185  CA-2017-152912  2017-11-12  2017-11-12    Second Class   \n",
      "6498    6499  CA-2015-103135  2015-07-28  2015-07-28  Standard Class   \n",
      "6500    6501  CA-2015-103135  2015-07-28  2015-07-28  Standard Class   \n",
      "7881    7882  CA-2017-118017  2017-12-06  2017-12-06    Second Class   \n",
      "7882    7883  CA-2017-118017  2017-12-06  2017-12-06    Second Class   \n",
      "9168    9169  CA-2016-140571  2016-03-19  2016-03-19  Standard Class   \n",
      "9169    9170  CA-2016-140571  2016-03-19  2016-03-19  Standard Class   \n",
      "\n",
      "     customer_id    customer_name      segment        country           city  \\\n",
      "350     AB-10060  Adam Bellavance  Home Office  United States  New York City   \n",
      "352     AB-10060  Adam Bellavance  Home Office  United States  New York City   \n",
      "430     RB-19795       Ross Baird  Home Office  United States       Gastonia   \n",
      "431     RB-19795       Ross Baird  Home Office  United States       Gastonia   \n",
      "1300    LC-17140     Logan Currie     Consumer  United States    Springfield   \n",
      "1301    LC-17140     Logan Currie     Consumer  United States    Springfield   \n",
      "3183    BM-11650       Brian Moss    Corporate  United States       Columbia   \n",
      "3184    BM-11650       Brian Moss    Corporate  United States       Columbia   \n",
      "6498    SS-20515  Shirley Schmidt  Home Office  United States     Louisville   \n",
      "6500    SS-20515  Shirley Schmidt  Home Office  United States     Louisville   \n",
      "7881    LC-16870    Lena Cacioppo     Consumer  United States       Thornton   \n",
      "7882    LC-16870    Lena Cacioppo     Consumer  United States       Thornton   \n",
      "9168    SJ-20125    Sanjit Jacobs  Home Office  United States        Jackson   \n",
      "9169    SJ-20125    Sanjit Jacobs  Home Office  United States        Jackson   \n",
      "\n",
      "      ...         category  sub_category  \\\n",
      "350   ...  Office Supplies         Paper   \n",
      "352   ...  Office Supplies         Paper   \n",
      "430   ...       Technology   Accessories   \n",
      "431   ...       Technology   Accessories   \n",
      "1300  ...        Furniture   Furnishings   \n",
      "1301  ...        Furniture   Furnishings   \n",
      "3183  ...  Office Supplies       Storage   \n",
      "3184  ...  Office Supplies       Storage   \n",
      "6498  ...  Office Supplies       Binders   \n",
      "6500  ...  Office Supplies       Binders   \n",
      "7881  ...       Technology   Accessories   \n",
      "7882  ...       Technology   Accessories   \n",
      "9168  ...  Office Supplies         Paper   \n",
      "9169  ...  Office Supplies         Paper   \n",
      "\n",
      "                                           product_name     sales quantity  \\\n",
      "350                                          Xerox 1881    24.560        2   \n",
      "352                                          Xerox 1881    49.120        4   \n",
      "430   Imation Secure+ Hardware Encrypted USB 2.0 Fla...   408.744        7   \n",
      "431   Imation Secure+ Hardware Encrypted USB 2.0 Fla...   291.960        5   \n",
      "1300  Electrix Architect's Clamp-On Swing Arm Lamp, ...   572.760        6   \n",
      "1301  Electrix Architect's Clamp-On Swing Arm Lamp, ...   286.380        3   \n",
      "3183                 Adjustable Depth Letter/Legal Cart  1633.140        9   \n",
      "3184                 Adjustable Depth Letter/Legal Cart   544.380        3   \n",
      "6498  GBC Prepunched Paper, 19-Hole, for Binding Sys...   135.090        9   \n",
      "6500  GBC Prepunched Paper, 19-Hole, for Binding Sys...    90.060        6   \n",
      "7881                   Memorex Micro Travel Drive 16 GB    76.752        6   \n",
      "7882                   Memorex Micro Travel Drive 16 GB   102.336        8   \n",
      "9168                                         Xerox 1964   319.760       14   \n",
      "9169                                         Xerox 1964    45.680        2   \n",
      "\n",
      "     discount    profit  first_name     surname  address_id  \n",
      "350       0.0   11.5432        Adam  Bellavance  AB-10060A5  \n",
      "352       0.0   23.0864        Adam  Bellavance  AB-10060A5  \n",
      "430       0.2   76.6395        Ross       Baird  RB-19795A8  \n",
      "431       0.2   54.7425        Ross       Baird  RB-19795A8  \n",
      "1300      0.0  166.1004       Logan      Currie  LC-17140A4  \n",
      "1301      0.0   83.0502       Logan      Currie  LC-17140A4  \n",
      "3183      0.0  473.6106       Brian        Moss  BM-11650A5  \n",
      "3184      0.0  157.8702       Brian        Moss  BM-11650A5  \n",
      "6498      0.0   62.1414     Shirley     Schmidt  SS-20515A3  \n",
      "6500      0.0   41.4276     Shirley     Schmidt  SS-20515A3  \n",
      "7881      0.2   10.5534        Lena    Cacioppo  LC-16870A7  \n",
      "7882      0.2   14.0712        Lena    Cacioppo  LC-16870A7  \n",
      "9168      0.0  147.0896      Sanjit      Jacobs  SJ-20125A2  \n",
      "9169      0.0   21.0128      Sanjit      Jacobs  SJ-20125A2  \n",
      "\n",
      "[14 rows x 24 columns]\n"
     ]
    }
   ],
   "source": [
    "# Finding duplicate rows based on 'order_id' and 'product_id'\n",
    "duplicate_rows = eshop[eshop.duplicated(subset=['order_id', 'product_id'], keep=False)]\n",
    "\n",
    "# Displaying the duplicate rows\n",
    "print(duplicate_rows)\n"
   ]
  },
  {
   "cell_type": "code",
   "execution_count": 69,
   "metadata": {},
   "outputs": [
    {
     "ename": "IntegrityError",
     "evalue": "UNIQUE constraint failed: order_details.order_id, order_details.product_id",
     "output_type": "error",
     "traceback": [
      "\u001b[1;31m---------------------------------------------------------------------------\u001b[0m",
      "\u001b[1;31mIntegrityError\u001b[0m                            Traceback (most recent call last)",
      "\u001b[1;32mc:\\Asus WebStorage\\psabin@gmail.com\\MySyncFolder\\Data Science Course\\E-Commerce\\Data Wrangling.ipynb Cell 54\u001b[0m line \u001b[0;36m1\n\u001b[1;32m----> <a href='vscode-notebook-cell:/c%3A/Asus%20WebStorage/psabin%40gmail.com/MySyncFolder/Data%20Science%20Course/E-Commerce/Data%20Wrangling.ipynb#Y123sZmlsZQ%3D%3D?line=0'>1</a>\u001b[0m details_df\u001b[39m.\u001b[39;49mto_sql(\u001b[39m'\u001b[39;49m\u001b[39morder_details\u001b[39;49m\u001b[39m'\u001b[39;49m, eshop_db, if_exists\u001b[39m=\u001b[39;49m\u001b[39m'\u001b[39;49m\u001b[39mappend\u001b[39;49m\u001b[39m'\u001b[39;49m, index\u001b[39m=\u001b[39;49m\u001b[39mFalse\u001b[39;49;00m)\n",
      "File \u001b[1;32mc:\\Users\\psabi\\anaconda3\\envs\\CAB\\lib\\site-packages\\pandas\\core\\generic.py:2878\u001b[0m, in \u001b[0;36mNDFrame.to_sql\u001b[1;34m(self, name, con, schema, if_exists, index, index_label, chunksize, dtype, method)\u001b[0m\n\u001b[0;32m   2713\u001b[0m \u001b[39m\u001b[39m\u001b[39m\"\"\"\u001b[39;00m\n\u001b[0;32m   2714\u001b[0m \u001b[39mWrite records stored in a DataFrame to a SQL database.\u001b[39;00m\n\u001b[0;32m   2715\u001b[0m \n\u001b[1;32m   (...)\u001b[0m\n\u001b[0;32m   2874\u001b[0m \u001b[39m[(1,), (None,), (2,)]\u001b[39;00m\n\u001b[0;32m   2875\u001b[0m \u001b[39m\"\"\"\u001b[39;00m  \u001b[39m# noqa:E501\u001b[39;00m\n\u001b[0;32m   2876\u001b[0m \u001b[39mfrom\u001b[39;00m \u001b[39mpandas\u001b[39;00m\u001b[39m.\u001b[39;00m\u001b[39mio\u001b[39;00m \u001b[39mimport\u001b[39;00m sql\n\u001b[1;32m-> 2878\u001b[0m \u001b[39mreturn\u001b[39;00m sql\u001b[39m.\u001b[39;49mto_sql(\n\u001b[0;32m   2879\u001b[0m     \u001b[39mself\u001b[39;49m,\n\u001b[0;32m   2880\u001b[0m     name,\n\u001b[0;32m   2881\u001b[0m     con,\n\u001b[0;32m   2882\u001b[0m     schema\u001b[39m=\u001b[39;49mschema,\n\u001b[0;32m   2883\u001b[0m     if_exists\u001b[39m=\u001b[39;49mif_exists,\n\u001b[0;32m   2884\u001b[0m     index\u001b[39m=\u001b[39;49mindex,\n\u001b[0;32m   2885\u001b[0m     index_label\u001b[39m=\u001b[39;49mindex_label,\n\u001b[0;32m   2886\u001b[0m     chunksize\u001b[39m=\u001b[39;49mchunksize,\n\u001b[0;32m   2887\u001b[0m     dtype\u001b[39m=\u001b[39;49mdtype,\n\u001b[0;32m   2888\u001b[0m     method\u001b[39m=\u001b[39;49mmethod,\n\u001b[0;32m   2889\u001b[0m )\n",
      "File \u001b[1;32mc:\\Users\\psabi\\anaconda3\\envs\\CAB\\lib\\site-packages\\pandas\\io\\sql.py:769\u001b[0m, in \u001b[0;36mto_sql\u001b[1;34m(frame, name, con, schema, if_exists, index, index_label, chunksize, dtype, method, engine, **engine_kwargs)\u001b[0m\n\u001b[0;32m    764\u001b[0m     \u001b[39mraise\u001b[39;00m \u001b[39mNotImplementedError\u001b[39;00m(\n\u001b[0;32m    765\u001b[0m         \u001b[39m\"\u001b[39m\u001b[39m'\u001b[39m\u001b[39mframe\u001b[39m\u001b[39m'\u001b[39m\u001b[39m argument should be either a Series or a DataFrame\u001b[39m\u001b[39m\"\u001b[39m\n\u001b[0;32m    766\u001b[0m     )\n\u001b[0;32m    768\u001b[0m \u001b[39mwith\u001b[39;00m pandasSQL_builder(con, schema\u001b[39m=\u001b[39mschema, need_transaction\u001b[39m=\u001b[39m\u001b[39mTrue\u001b[39;00m) \u001b[39mas\u001b[39;00m pandas_sql:\n\u001b[1;32m--> 769\u001b[0m     \u001b[39mreturn\u001b[39;00m pandas_sql\u001b[39m.\u001b[39mto_sql(\n\u001b[0;32m    770\u001b[0m         frame,\n\u001b[0;32m    771\u001b[0m         name,\n\u001b[0;32m    772\u001b[0m         if_exists\u001b[39m=\u001b[39mif_exists,\n\u001b[0;32m    773\u001b[0m         index\u001b[39m=\u001b[39mindex,\n\u001b[0;32m    774\u001b[0m         index_label\u001b[39m=\u001b[39mindex_label,\n\u001b[0;32m    775\u001b[0m         schema\u001b[39m=\u001b[39mschema,\n\u001b[0;32m    776\u001b[0m         chunksize\u001b[39m=\u001b[39mchunksize,\n\u001b[0;32m    777\u001b[0m         dtype\u001b[39m=\u001b[39mdtype,\n\u001b[0;32m    778\u001b[0m         method\u001b[39m=\u001b[39mmethod,\n\u001b[0;32m    779\u001b[0m         engine\u001b[39m=\u001b[39mengine,\n\u001b[0;32m    780\u001b[0m         \u001b[39m*\u001b[39m\u001b[39m*\u001b[39mengine_kwargs,\n\u001b[0;32m    781\u001b[0m     )\n",
      "File \u001b[1;32mc:\\Users\\psabi\\anaconda3\\envs\\CAB\\lib\\site-packages\\pandas\\io\\sql.py:2379\u001b[0m, in \u001b[0;36mSQLiteDatabase.to_sql\u001b[1;34m(self, frame, name, if_exists, index, index_label, schema, chunksize, dtype, method, engine, **engine_kwargs)\u001b[0m\n\u001b[0;32m   2369\u001b[0m table \u001b[39m=\u001b[39m SQLiteTable(\n\u001b[0;32m   2370\u001b[0m     name,\n\u001b[0;32m   2371\u001b[0m     \u001b[39mself\u001b[39m,\n\u001b[1;32m   (...)\u001b[0m\n\u001b[0;32m   2376\u001b[0m     dtype\u001b[39m=\u001b[39mdtype,\n\u001b[0;32m   2377\u001b[0m )\n\u001b[0;32m   2378\u001b[0m table\u001b[39m.\u001b[39mcreate()\n\u001b[1;32m-> 2379\u001b[0m \u001b[39mreturn\u001b[39;00m table\u001b[39m.\u001b[39;49minsert(chunksize, method)\n",
      "File \u001b[1;32mc:\\Users\\psabi\\anaconda3\\envs\\CAB\\lib\\site-packages\\pandas\\io\\sql.py:1023\u001b[0m, in \u001b[0;36mSQLTable.insert\u001b[1;34m(self, chunksize, method)\u001b[0m\n\u001b[0;32m   1020\u001b[0m     \u001b[39mbreak\u001b[39;00m\n\u001b[0;32m   1022\u001b[0m chunk_iter \u001b[39m=\u001b[39m \u001b[39mzip\u001b[39m(\u001b[39m*\u001b[39m(arr[start_i:end_i] \u001b[39mfor\u001b[39;00m arr \u001b[39min\u001b[39;00m data_list))\n\u001b[1;32m-> 1023\u001b[0m num_inserted \u001b[39m=\u001b[39m exec_insert(conn, keys, chunk_iter)\n\u001b[0;32m   1024\u001b[0m \u001b[39m# GH 46891\u001b[39;00m\n\u001b[0;32m   1025\u001b[0m \u001b[39mif\u001b[39;00m is_integer(num_inserted):\n",
      "File \u001b[1;32mc:\\Users\\psabi\\anaconda3\\envs\\CAB\\lib\\site-packages\\pandas\\io\\sql.py:2075\u001b[0m, in \u001b[0;36mSQLiteTable._execute_insert\u001b[1;34m(self, conn, keys, data_iter)\u001b[0m\n\u001b[0;32m   2073\u001b[0m \u001b[39mdef\u001b[39;00m \u001b[39m_execute_insert\u001b[39m(\u001b[39mself\u001b[39m, conn, keys, data_iter) \u001b[39m-\u001b[39m\u001b[39m>\u001b[39m \u001b[39mint\u001b[39m:\n\u001b[0;32m   2074\u001b[0m     data_list \u001b[39m=\u001b[39m \u001b[39mlist\u001b[39m(data_iter)\n\u001b[1;32m-> 2075\u001b[0m     conn\u001b[39m.\u001b[39;49mexecutemany(\u001b[39mself\u001b[39;49m\u001b[39m.\u001b[39;49minsert_statement(num_rows\u001b[39m=\u001b[39;49m\u001b[39m1\u001b[39;49m), data_list)\n\u001b[0;32m   2076\u001b[0m     \u001b[39mreturn\u001b[39;00m conn\u001b[39m.\u001b[39mrowcount\n",
      "\u001b[1;31mIntegrityError\u001b[0m: UNIQUE constraint failed: order_details.order_id, order_details.product_id"
     ]
    }
   ],
   "source": [
    "details_df.to_sql('order_details', eshop_db, if_exists='append', index=False)"
   ]
  },
  {
   "cell_type": "code",
   "execution_count": 73,
   "metadata": {},
   "outputs": [],
   "source": [
    "eshop_db.close()"
   ]
  }
 ],
 "metadata": {
  "kernelspec": {
   "display_name": "CAB",
   "language": "python",
   "name": "python3"
  },
  "language_info": {
   "codemirror_mode": {
    "name": "ipython",
    "version": 3
   },
   "file_extension": ".py",
   "mimetype": "text/x-python",
   "name": "python",
   "nbconvert_exporter": "python",
   "pygments_lexer": "ipython3",
   "version": "3.10.12"
  }
 },
 "nbformat": 4,
 "nbformat_minor": 2
}
